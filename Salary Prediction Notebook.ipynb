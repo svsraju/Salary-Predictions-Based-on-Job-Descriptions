{
  "nbformat": 4,
  "nbformat_minor": 0,
  "metadata": {
    "kernelspec": {
      "name": "python3",
      "display_name": "Python 3"
    },
    "language_info": {
      "codemirror_mode": {
        "name": "ipython",
        "version": 3
      },
      "file_extension": ".py",
      "mimetype": "text/x-python",
      "name": "python",
      "nbconvert_exporter": "python",
      "pygments_lexer": "ipython3",
      "version": "3.6.4"
    },
    "colab": {
      "name": "Salary Prediction.ipynb",
      "provenance": [],
      "collapsed_sections": [
        "jHzUUv4vR1UR",
        "aWQ_JeUYR1US",
        "EFkz-MvjR1UZ",
        "4_wYqNN6R1Ug",
        "WNiN2uQIR1Uk",
        "rhkff0zGR1Uy",
        "YEsv4G7dR1U4",
        "RzB49awtR1U_"
      ],
      "toc_visible": true,
      "machine_shape": "hm"
    }
  },
  "cells": [
    {
      "cell_type": "markdown",
      "metadata": {
        "id": "7JjaXFdjR1Sw",
        "colab_type": "text"
      },
      "source": [
        "# Salary Predictions Based on Job Descriptions"
      ]
    },
    {
      "cell_type": "markdown",
      "metadata": {
        "id": "7EA4GwmtR1S5",
        "colab_type": "text"
      },
      "source": [
        "# Part 1 - DEFINE"
      ]
    },
    {
      "cell_type": "markdown",
      "metadata": {
        "id": "iEt2UhEvR1S9",
        "colab_type": "text"
      },
      "source": [
        "### ---- 1 Problem Definition ----"
      ]
    },
    {
      "cell_type": "markdown",
      "metadata": {
        "id": "gR5NzrwTR1S_",
        "colab_type": "text"
      },
      "source": [
        "In this Project I will be building a model that predicts the salaries for the given job postings.For that I will have to examine a set of job postings with salaries and then predict salaries for a new set of job postings."
      ]
    },
    {
      "cell_type": "code",
      "metadata": {
        "id": "bvCS4l3gDi5O",
        "colab_type": "code",
        "colab": {
          "base_uri": "https://localhost:8080/",
          "height": 34
        },
        "outputId": "e4db453e-f7f2-4b2a-f1f8-441a160406ae"
      },
      "source": [
        "from google.colab import drive\n",
        "drive.mount('/content/drive')"
      ],
      "execution_count": 2,
      "outputs": [
        {
          "output_type": "stream",
          "text": [
            "Drive already mounted at /content/drive; to attempt to forcibly remount, call drive.mount(\"/content/drive\", force_remount=True).\n"
          ],
          "name": "stdout"
        }
      ]
    },
    {
      "cell_type": "code",
      "metadata": {
        "id": "RoNd-tKbR1TA",
        "colab_type": "code",
        "colab": {}
      },
      "source": [
        "#import your libraries\n",
        "import pandas as pd\n",
        "import numpy as np\n",
        "import sklearn as sk\n",
        "import matplotlib.pyplot as plt\n",
        "import seaborn as sns\n",
        "from sklearn.metrics import mean_squared_error\n",
        "from sklearn.model_selection import cross_val_score\n",
        "from sklearn.model_selection import train_test_split\n",
        "from sklearn.ensemble import RandomForestRegressor, GradientBoostingRegressor\n",
        "from sklearn.linear_model import LinearRegression\n",
        "from sklearn.pipeline import make_pipeline\n",
        "import pickle\n",
        "\n",
        "\n",
        "#My info\n",
        "__author__ = \"Venkata Subbaraju Sagi\"\n",
        "__email__ = \"subbaraju.v@ou.edu\"\n",
        "\n",
        "\n",
        "%matplotlib inline "
      ],
      "execution_count": 0,
      "outputs": []
    },
    {
      "cell_type": "markdown",
      "metadata": {
        "id": "yeSMd6kJR1TM",
        "colab_type": "text"
      },
      "source": [
        "\n",
        "\n",
        "## Part 2 - DISCOVER"
      ]
    },
    {
      "cell_type": "markdown",
      "metadata": {
        "id": "AXl3QBTKR1TP",
        "colab_type": "text"
      },
      "source": [
        "### ---- 2 Load the data ----"
      ]
    },
    {
      "cell_type": "code",
      "metadata": {
        "id": "xnN31gWwR1TQ",
        "colab_type": "code",
        "colab": {}
      },
      "source": [
        "#load the data into a Pandas dataframe\n",
        "\n",
        "#feature information\n",
        "train_features_df = pd.read_csv(\"/content/drive/My Drive/project final/train_features.csv\")\n",
        "\n",
        "#salaries information\n",
        "given_train_salaries_df = pd.read_csv(\"/content/drive/My Drive/project final/train_salaries.csv\")\n",
        "\n",
        "#testing dataframe\n",
        "test_features_df = pd.read_csv(\"/content/drive/My Drive/project final/test_features.csv\")"
      ],
      "execution_count": 0,
      "outputs": []
    },
    {
      "cell_type": "markdown",
      "metadata": {
        "id": "7jkakP6M3snQ",
        "colab_type": "text"
      },
      "source": [
        "#### 2.1 Examining the data"
      ]
    },
    {
      "cell_type": "code",
      "metadata": {
        "id": "ZH9lqnVZzBPR",
        "colab_type": "code",
        "outputId": "6cc0109c-1303-4902-9472-5a3150de7933",
        "colab": {
          "base_uri": "https://localhost:8080/",
          "height": 204
        }
      },
      "source": [
        "train_features_df.head()"
      ],
      "execution_count": 121,
      "outputs": [
        {
          "output_type": "execute_result",
          "data": {
            "text/html": [
              "<div>\n",
              "<style scoped>\n",
              "    .dataframe tbody tr th:only-of-type {\n",
              "        vertical-align: middle;\n",
              "    }\n",
              "\n",
              "    .dataframe tbody tr th {\n",
              "        vertical-align: top;\n",
              "    }\n",
              "\n",
              "    .dataframe thead th {\n",
              "        text-align: right;\n",
              "    }\n",
              "</style>\n",
              "<table border=\"1\" class=\"dataframe\">\n",
              "  <thead>\n",
              "    <tr style=\"text-align: right;\">\n",
              "      <th></th>\n",
              "      <th>jobId</th>\n",
              "      <th>companyId</th>\n",
              "      <th>jobType</th>\n",
              "      <th>degree</th>\n",
              "      <th>major</th>\n",
              "      <th>industry</th>\n",
              "      <th>yearsExperience</th>\n",
              "      <th>milesFromMetropolis</th>\n",
              "    </tr>\n",
              "  </thead>\n",
              "  <tbody>\n",
              "    <tr>\n",
              "      <th>0</th>\n",
              "      <td>JOB1362684407687</td>\n",
              "      <td>COMP37</td>\n",
              "      <td>CFO</td>\n",
              "      <td>MASTERS</td>\n",
              "      <td>MATH</td>\n",
              "      <td>HEALTH</td>\n",
              "      <td>10</td>\n",
              "      <td>83</td>\n",
              "    </tr>\n",
              "    <tr>\n",
              "      <th>1</th>\n",
              "      <td>JOB1362684407688</td>\n",
              "      <td>COMP19</td>\n",
              "      <td>CEO</td>\n",
              "      <td>HIGH_SCHOOL</td>\n",
              "      <td>NONE</td>\n",
              "      <td>WEB</td>\n",
              "      <td>3</td>\n",
              "      <td>73</td>\n",
              "    </tr>\n",
              "    <tr>\n",
              "      <th>2</th>\n",
              "      <td>JOB1362684407689</td>\n",
              "      <td>COMP52</td>\n",
              "      <td>VICE_PRESIDENT</td>\n",
              "      <td>DOCTORAL</td>\n",
              "      <td>PHYSICS</td>\n",
              "      <td>HEALTH</td>\n",
              "      <td>10</td>\n",
              "      <td>38</td>\n",
              "    </tr>\n",
              "    <tr>\n",
              "      <th>3</th>\n",
              "      <td>JOB1362684407690</td>\n",
              "      <td>COMP38</td>\n",
              "      <td>MANAGER</td>\n",
              "      <td>DOCTORAL</td>\n",
              "      <td>CHEMISTRY</td>\n",
              "      <td>AUTO</td>\n",
              "      <td>8</td>\n",
              "      <td>17</td>\n",
              "    </tr>\n",
              "    <tr>\n",
              "      <th>4</th>\n",
              "      <td>JOB1362684407691</td>\n",
              "      <td>COMP7</td>\n",
              "      <td>VICE_PRESIDENT</td>\n",
              "      <td>BACHELORS</td>\n",
              "      <td>PHYSICS</td>\n",
              "      <td>FINANCE</td>\n",
              "      <td>8</td>\n",
              "      <td>16</td>\n",
              "    </tr>\n",
              "  </tbody>\n",
              "</table>\n",
              "</div>"
            ],
            "text/plain": [
              "              jobId companyId  ... yearsExperience milesFromMetropolis\n",
              "0  JOB1362684407687    COMP37  ...              10                  83\n",
              "1  JOB1362684407688    COMP19  ...               3                  73\n",
              "2  JOB1362684407689    COMP52  ...              10                  38\n",
              "3  JOB1362684407690    COMP38  ...               8                  17\n",
              "4  JOB1362684407691     COMP7  ...               8                  16\n",
              "\n",
              "[5 rows x 8 columns]"
            ]
          },
          "metadata": {
            "tags": []
          },
          "execution_count": 121
        }
      ]
    },
    {
      "cell_type": "code",
      "metadata": {
        "id": "eRqDN_YuzZAu",
        "colab_type": "code",
        "outputId": "936a6f2e-c56a-43a9-ef38-a368d431fd07",
        "colab": {
          "base_uri": "https://localhost:8080/",
          "height": 204
        }
      },
      "source": [
        "given_train_salaries_df.head()"
      ],
      "execution_count": 123,
      "outputs": [
        {
          "output_type": "execute_result",
          "data": {
            "text/html": [
              "<div>\n",
              "<style scoped>\n",
              "    .dataframe tbody tr th:only-of-type {\n",
              "        vertical-align: middle;\n",
              "    }\n",
              "\n",
              "    .dataframe tbody tr th {\n",
              "        vertical-align: top;\n",
              "    }\n",
              "\n",
              "    .dataframe thead th {\n",
              "        text-align: right;\n",
              "    }\n",
              "</style>\n",
              "<table border=\"1\" class=\"dataframe\">\n",
              "  <thead>\n",
              "    <tr style=\"text-align: right;\">\n",
              "      <th></th>\n",
              "      <th>jobId</th>\n",
              "      <th>salary</th>\n",
              "    </tr>\n",
              "  </thead>\n",
              "  <tbody>\n",
              "    <tr>\n",
              "      <th>0</th>\n",
              "      <td>JOB1362684407687</td>\n",
              "      <td>130</td>\n",
              "    </tr>\n",
              "    <tr>\n",
              "      <th>1</th>\n",
              "      <td>JOB1362684407688</td>\n",
              "      <td>101</td>\n",
              "    </tr>\n",
              "    <tr>\n",
              "      <th>2</th>\n",
              "      <td>JOB1362684407689</td>\n",
              "      <td>137</td>\n",
              "    </tr>\n",
              "    <tr>\n",
              "      <th>3</th>\n",
              "      <td>JOB1362684407690</td>\n",
              "      <td>142</td>\n",
              "    </tr>\n",
              "    <tr>\n",
              "      <th>4</th>\n",
              "      <td>JOB1362684407691</td>\n",
              "      <td>163</td>\n",
              "    </tr>\n",
              "  </tbody>\n",
              "</table>\n",
              "</div>"
            ],
            "text/plain": [
              "              jobId  salary\n",
              "0  JOB1362684407687     130\n",
              "1  JOB1362684407688     101\n",
              "2  JOB1362684407689     137\n",
              "3  JOB1362684407690     142\n",
              "4  JOB1362684407691     163"
            ]
          },
          "metadata": {
            "tags": []
          },
          "execution_count": 123
        }
      ]
    },
    {
      "cell_type": "code",
      "metadata": {
        "id": "DexQfn_NzxlG",
        "colab_type": "code",
        "colab": {}
      },
      "source": [
        "# combining both dataframes as we want to train our features on the target 'salary'\n",
        "\n",
        "salaries_df = pd.merge(train_features_df, given_train_salaries_df, how = 'inner')"
      ],
      "execution_count": 0,
      "outputs": []
    },
    {
      "cell_type": "code",
      "metadata": {
        "id": "fp_9zDgwzxzR",
        "colab_type": "code",
        "colab": {
          "base_uri": "https://localhost:8080/",
          "height": 204
        },
        "outputId": "7db04043-fa9d-4c1b-a837-1a62ae712783"
      },
      "source": [
        "salaries_df.head()"
      ],
      "execution_count": 125,
      "outputs": [
        {
          "output_type": "execute_result",
          "data": {
            "text/html": [
              "<div>\n",
              "<style scoped>\n",
              "    .dataframe tbody tr th:only-of-type {\n",
              "        vertical-align: middle;\n",
              "    }\n",
              "\n",
              "    .dataframe tbody tr th {\n",
              "        vertical-align: top;\n",
              "    }\n",
              "\n",
              "    .dataframe thead th {\n",
              "        text-align: right;\n",
              "    }\n",
              "</style>\n",
              "<table border=\"1\" class=\"dataframe\">\n",
              "  <thead>\n",
              "    <tr style=\"text-align: right;\">\n",
              "      <th></th>\n",
              "      <th>jobId</th>\n",
              "      <th>companyId</th>\n",
              "      <th>jobType</th>\n",
              "      <th>degree</th>\n",
              "      <th>major</th>\n",
              "      <th>industry</th>\n",
              "      <th>yearsExperience</th>\n",
              "      <th>milesFromMetropolis</th>\n",
              "      <th>salary</th>\n",
              "    </tr>\n",
              "  </thead>\n",
              "  <tbody>\n",
              "    <tr>\n",
              "      <th>0</th>\n",
              "      <td>JOB1362684407687</td>\n",
              "      <td>COMP37</td>\n",
              "      <td>CFO</td>\n",
              "      <td>MASTERS</td>\n",
              "      <td>MATH</td>\n",
              "      <td>HEALTH</td>\n",
              "      <td>10</td>\n",
              "      <td>83</td>\n",
              "      <td>130</td>\n",
              "    </tr>\n",
              "    <tr>\n",
              "      <th>1</th>\n",
              "      <td>JOB1362684407688</td>\n",
              "      <td>COMP19</td>\n",
              "      <td>CEO</td>\n",
              "      <td>HIGH_SCHOOL</td>\n",
              "      <td>NONE</td>\n",
              "      <td>WEB</td>\n",
              "      <td>3</td>\n",
              "      <td>73</td>\n",
              "      <td>101</td>\n",
              "    </tr>\n",
              "    <tr>\n",
              "      <th>2</th>\n",
              "      <td>JOB1362684407689</td>\n",
              "      <td>COMP52</td>\n",
              "      <td>VICE_PRESIDENT</td>\n",
              "      <td>DOCTORAL</td>\n",
              "      <td>PHYSICS</td>\n",
              "      <td>HEALTH</td>\n",
              "      <td>10</td>\n",
              "      <td>38</td>\n",
              "      <td>137</td>\n",
              "    </tr>\n",
              "    <tr>\n",
              "      <th>3</th>\n",
              "      <td>JOB1362684407690</td>\n",
              "      <td>COMP38</td>\n",
              "      <td>MANAGER</td>\n",
              "      <td>DOCTORAL</td>\n",
              "      <td>CHEMISTRY</td>\n",
              "      <td>AUTO</td>\n",
              "      <td>8</td>\n",
              "      <td>17</td>\n",
              "      <td>142</td>\n",
              "    </tr>\n",
              "    <tr>\n",
              "      <th>4</th>\n",
              "      <td>JOB1362684407691</td>\n",
              "      <td>COMP7</td>\n",
              "      <td>VICE_PRESIDENT</td>\n",
              "      <td>BACHELORS</td>\n",
              "      <td>PHYSICS</td>\n",
              "      <td>FINANCE</td>\n",
              "      <td>8</td>\n",
              "      <td>16</td>\n",
              "      <td>163</td>\n",
              "    </tr>\n",
              "  </tbody>\n",
              "</table>\n",
              "</div>"
            ],
            "text/plain": [
              "              jobId companyId  ... milesFromMetropolis salary\n",
              "0  JOB1362684407687    COMP37  ...                  83    130\n",
              "1  JOB1362684407688    COMP19  ...                  73    101\n",
              "2  JOB1362684407689    COMP52  ...                  38    137\n",
              "3  JOB1362684407690    COMP38  ...                  17    142\n",
              "4  JOB1362684407691     COMP7  ...                  16    163\n",
              "\n",
              "[5 rows x 9 columns]"
            ]
          },
          "metadata": {
            "tags": []
          },
          "execution_count": 125
        }
      ]
    },
    {
      "cell_type": "markdown",
      "metadata": {
        "id": "92xitJS536Yl",
        "colab_type": "text"
      },
      "source": [
        "####  2.2 checking lengths and datatypes"
      ]
    },
    {
      "cell_type": "code",
      "metadata": {
        "id": "5L4oMnb0zyS9",
        "colab_type": "code",
        "colab": {
          "base_uri": "https://localhost:8080/",
          "height": 255
        },
        "outputId": "d41b347e-df0f-4c3f-c6ee-2e86fcf91988"
      },
      "source": [
        "salaries_df.info()"
      ],
      "execution_count": 126,
      "outputs": [
        {
          "output_type": "stream",
          "text": [
            "<class 'pandas.core.frame.DataFrame'>\n",
            "Int64Index: 1000000 entries, 0 to 999999\n",
            "Data columns (total 9 columns):\n",
            "jobId                  1000000 non-null object\n",
            "companyId              1000000 non-null object\n",
            "jobType                1000000 non-null object\n",
            "degree                 1000000 non-null object\n",
            "major                  1000000 non-null object\n",
            "industry               1000000 non-null object\n",
            "yearsExperience        1000000 non-null int64\n",
            "milesFromMetropolis    1000000 non-null int64\n",
            "salary                 1000000 non-null int64\n",
            "dtypes: int64(3), object(6)\n",
            "memory usage: 76.3+ MB\n"
          ],
          "name": "stdout"
        }
      ]
    },
    {
      "cell_type": "code",
      "metadata": {
        "id": "9Q2jVeJozyeg",
        "colab_type": "code",
        "colab": {
          "base_uri": "https://localhost:8080/",
          "height": 238
        },
        "outputId": "d25d51d8-e505-4e8d-895c-f0331deaab0f"
      },
      "source": [
        "test_features_df.info()"
      ],
      "execution_count": 127,
      "outputs": [
        {
          "output_type": "stream",
          "text": [
            "<class 'pandas.core.frame.DataFrame'>\n",
            "RangeIndex: 1000000 entries, 0 to 999999\n",
            "Data columns (total 8 columns):\n",
            "jobId                  1000000 non-null object\n",
            "companyId              1000000 non-null object\n",
            "jobType                1000000 non-null object\n",
            "degree                 1000000 non-null object\n",
            "major                  1000000 non-null object\n",
            "industry               1000000 non-null object\n",
            "yearsExperience        1000000 non-null int64\n",
            "milesFromMetropolis    1000000 non-null int64\n",
            "dtypes: int64(2), object(6)\n",
            "memory usage: 61.0+ MB\n"
          ],
          "name": "stdout"
        }
      ]
    },
    {
      "cell_type": "code",
      "metadata": {
        "id": "ctrb7BQ4zyva",
        "colab_type": "code",
        "colab": {
          "base_uri": "https://localhost:8080/",
          "height": 51
        },
        "outputId": "96ebe39a-f663-4990-d986-38bf8e1c4716"
      },
      "source": [
        "print(f\"salaries_df_shape = {salaries_df.shape} \")\n",
        "print(f\"test_features_df_shape = {test_features_df.shape} \")"
      ],
      "execution_count": 128,
      "outputs": [
        {
          "output_type": "stream",
          "text": [
            "salaries_df_shape = (1000000, 9) \n",
            "test_features_df_shape = (1000000, 8) \n"
          ],
          "name": "stdout"
        }
      ]
    },
    {
      "cell_type": "code",
      "metadata": {
        "id": "qmOOZxtUzFrV",
        "colab_type": "code",
        "colab": {}
      },
      "source": [
        "#keeping a copy of  our training data\n",
        "\n",
        "full_salary_df = salaries_df.copy()\n",
        "\n",
        "full_test_features_df = test_features_df.copy()"
      ],
      "execution_count": 0,
      "outputs": []
    },
    {
      "cell_type": "code",
      "metadata": {
        "id": "QPquyiREGFon",
        "colab_type": "code",
        "colab": {}
      },
      "source": [
        "# droping \"company Id\" from both the dataframes as I think it will not add any value in prediction the target\n",
        "\n",
        "salaries_df = salaries_df.drop('companyId', axis = 1)\n",
        "test_features_df = test_features_df.drop('companyId', axis = 1)"
      ],
      "execution_count": 0,
      "outputs": []
    },
    {
      "cell_type": "markdown",
      "metadata": {
        "id": "yvHervN7R1Tb",
        "colab_type": "text"
      },
      "source": [
        "### ---- 3 Clean the data ----"
      ]
    },
    {
      "cell_type": "code",
      "metadata": {
        "id": "dvmcAc_ozwoP",
        "colab_type": "code",
        "colab": {
          "base_uri": "https://localhost:8080/",
          "height": 119
        },
        "outputId": "f1d7c8d9-e5db-4044-cd67-def99bf3e120"
      },
      "source": [
        "#checking the colunm names \n",
        "print(salaries_df.columns)\n",
        "\n",
        "print(test_features_df.columns)"
      ],
      "execution_count": 131,
      "outputs": [
        {
          "output_type": "stream",
          "text": [
            "Index(['jobId', 'jobType', 'degree', 'major', 'industry', 'yearsExperience',\n",
            "       'milesFromMetropolis', 'salary'],\n",
            "      dtype='object')\n",
            "Index(['jobId', 'jobType', 'degree', 'major', 'industry', 'yearsExperience',\n",
            "       'milesFromMetropolis'],\n",
            "      dtype='object')\n"
          ],
          "name": "stdout"
        }
      ]
    },
    {
      "cell_type": "markdown",
      "metadata": {
        "id": "mSob2mXgDsML",
        "colab_type": "text"
      },
      "source": [
        "column names are good, and easily understood so I will not be changing the column names. If you wish to change the name for example 'yearsExperience' to 'yoe' you can do it this way:\n",
        "\n",
        "salaries_df = salaries_df.rename(columns = {\"yearsExperience\" :\"yoe\"})"
      ]
    },
    {
      "cell_type": "markdown",
      "metadata": {
        "id": "rPXWUf8h6j59",
        "colab_type": "text"
      },
      "source": [
        "####  3.1 checking numerical and categorical variables"
      ]
    },
    {
      "cell_type": "code",
      "metadata": {
        "id": "3EWmYe5w6rf6",
        "colab_type": "code",
        "colab": {}
      },
      "source": [
        "numeric_var = ['yearsExperience','milesFromMetropolis','salary']\n",
        "\n",
        "categorical_var = ['jobId', 'jobType', 'degree', 'major', 'industry']"
      ],
      "execution_count": 0,
      "outputs": []
    },
    {
      "cell_type": "code",
      "metadata": {
        "colab_type": "code",
        "outputId": "7ab8377c-8eda-4f3b-e7df-cac14693a488",
        "id": "bzbo8ESI63b7",
        "colab": {
          "base_uri": "https://localhost:8080/",
          "height": 119
        }
      },
      "source": [
        "#checking the colunm names \n",
        "print(salaries_df.columns)\n",
        "\n",
        "print(test_features_df.columns)"
      ],
      "execution_count": 16,
      "outputs": [
        {
          "output_type": "stream",
          "text": [
            "Index(['jobId', 'jobType', 'degree', 'major', 'industry', 'yearsExperience',\n",
            "       'milesFromMetropolis', 'salary'],\n",
            "      dtype='object')\n",
            "Index(['jobId', 'jobType', 'degree', 'major', 'industry', 'yearsExperience',\n",
            "       'milesFromMetropolis'],\n",
            "      dtype='object')\n"
          ],
          "name": "stdout"
        }
      ]
    },
    {
      "cell_type": "code",
      "metadata": {
        "colab_type": "code",
        "outputId": "9ce64922-924c-4f66-e2cd-4e8831bdfb13",
        "id": "lJVzYjl_61P7",
        "colab": {
          "base_uri": "https://localhost:8080/",
          "height": 119
        }
      },
      "source": [
        "#checking the colunm names \n",
        "print(salaries_df.columns)\n",
        "\n",
        "print(test_features_df.columns)"
      ],
      "execution_count": 17,
      "outputs": [
        {
          "output_type": "stream",
          "text": [
            "Index(['jobId', 'jobType', 'degree', 'major', 'industry', 'yearsExperience',\n",
            "       'milesFromMetropolis', 'salary'],\n",
            "      dtype='object')\n",
            "Index(['jobId', 'jobType', 'degree', 'major', 'industry', 'yearsExperience',\n",
            "       'milesFromMetropolis'],\n",
            "      dtype='object')\n"
          ],
          "name": "stdout"
        }
      ]
    },
    {
      "cell_type": "markdown",
      "metadata": {
        "id": "cHgXxIfpIcoo",
        "colab_type": "text"
      },
      "source": [
        "#### 3.2 Missing Values\n",
        "\n",
        "From the info we get to see that we dont have any missing values in the data. Lets confirm the same"
      ]
    },
    {
      "cell_type": "code",
      "metadata": {
        "id": "e0lmqZr7Iw4P",
        "colab_type": "code",
        "colab": {
          "base_uri": "https://localhost:8080/",
          "height": 170
        },
        "outputId": "57a09e01-4240-4762-fa3d-9e693831d133"
      },
      "source": [
        "#checking the count of all missing values in each column for training data:\n",
        "salaries_df.isna().sum()"
      ],
      "execution_count": 18,
      "outputs": [
        {
          "output_type": "execute_result",
          "data": {
            "text/plain": [
              "jobId                  0\n",
              "jobType                0\n",
              "degree                 0\n",
              "major                  0\n",
              "industry               0\n",
              "yearsExperience        0\n",
              "milesFromMetropolis    0\n",
              "salary                 0\n",
              "dtype: int64"
            ]
          },
          "metadata": {
            "tags": []
          },
          "execution_count": 18
        }
      ]
    },
    {
      "cell_type": "code",
      "metadata": {
        "id": "2qjtoxjZx91F",
        "colab_type": "code",
        "colab": {
          "base_uri": "https://localhost:8080/",
          "height": 153
        },
        "outputId": "6ec3b27b-2138-4427-b99f-7852f43a1a60"
      },
      "source": [
        "#checking the count of all missing values in each column for testing data:\n",
        "test_features_df.isna().sum()"
      ],
      "execution_count": 15,
      "outputs": [
        {
          "output_type": "execute_result",
          "data": {
            "text/plain": [
              "jobId                  0\n",
              "jobType                0\n",
              "degree                 0\n",
              "major                  0\n",
              "industry               0\n",
              "yearsExperience        0\n",
              "milesFromMetropolis    0\n",
              "dtype: int64"
            ]
          },
          "metadata": {
            "tags": []
          },
          "execution_count": 15
        }
      ]
    },
    {
      "cell_type": "markdown",
      "metadata": {
        "id": "P30jQx2exrZj",
        "colab_type": "text"
      },
      "source": [
        "#### 3.3 Correct Data format\n",
        "\n",
        "We need to check if all data is in the correct format"
      ]
    },
    {
      "cell_type": "code",
      "metadata": {
        "id": "CR9G1ZvpxQRp",
        "colab_type": "code",
        "colab": {
          "base_uri": "https://localhost:8080/",
          "height": 170
        },
        "outputId": "d45ef676-1245-44cb-eef9-cb39101b4de3"
      },
      "source": [
        "salaries_df.dtypes"
      ],
      "execution_count": 20,
      "outputs": [
        {
          "output_type": "execute_result",
          "data": {
            "text/plain": [
              "jobId                  object\n",
              "jobType                object\n",
              "degree                 object\n",
              "major                  object\n",
              "industry               object\n",
              "yearsExperience         int64\n",
              "milesFromMetropolis     int64\n",
              "salary                  int64\n",
              "dtype: object"
            ]
          },
          "metadata": {
            "tags": []
          },
          "execution_count": 20
        }
      ]
    },
    {
      "cell_type": "markdown",
      "metadata": {
        "id": "EBzZzwai0MS1",
        "colab_type": "text"
      },
      "source": [
        "In our dataset all the datatypes look fine!!. Now we have a dataset with no missing values and all data in proper format."
      ]
    },
    {
      "cell_type": "markdown",
      "metadata": {
        "id": "wjh8vpQ41KEk",
        "colab_type": "text"
      },
      "source": [
        "#### 3.4 Looking for Duplicated data rows for both the datasets\n"
      ]
    },
    {
      "cell_type": "code",
      "metadata": {
        "id": "J9JL5y-rxQmT",
        "colab_type": "code",
        "colab": {
          "base_uri": "https://localhost:8080/",
          "height": 34
        },
        "outputId": "896ef644-2b0e-4388-f755-38f361ba1eac"
      },
      "source": [
        "salaries_df.duplicated().sum()"
      ],
      "execution_count": 21,
      "outputs": [
        {
          "output_type": "execute_result",
          "data": {
            "text/plain": [
              "0"
            ]
          },
          "metadata": {
            "tags": []
          },
          "execution_count": 21
        }
      ]
    },
    {
      "cell_type": "code",
      "metadata": {
        "id": "M0A9XRUJxQjn",
        "colab_type": "code",
        "colab": {
          "base_uri": "https://localhost:8080/",
          "height": 34
        },
        "outputId": "9d6b1252-a0d0-4ef5-b64e-5618c840eecd"
      },
      "source": [
        "test_features_df.duplicated().sum()"
      ],
      "execution_count": 16,
      "outputs": [
        {
          "output_type": "execute_result",
          "data": {
            "text/plain": [
              "0"
            ]
          },
          "metadata": {
            "tags": []
          },
          "execution_count": 16
        }
      ]
    },
    {
      "cell_type": "markdown",
      "metadata": {
        "id": "L0rnfCaR2Bkk",
        "colab_type": "text"
      },
      "source": [
        "In our datasets we do not have any duplicated  data, if you find any you will have to remove it"
      ]
    },
    {
      "cell_type": "markdown",
      "metadata": {
        "id": "skoqSr0Z16dz",
        "colab_type": "text"
      },
      "source": [
        "#### 3.5 Looking for invalid data or corrupt data\n"
      ]
    },
    {
      "cell_type": "markdown",
      "metadata": {
        "id": "FDOecviX2dJT",
        "colab_type": "text"
      },
      "source": [
        "In our dataset we can check if our data is valid, like having a salary less than or equal to zero is not valid and years of experience cannot be less than zero.\n"
      ]
    },
    {
      "cell_type": "code",
      "metadata": {
        "id": "fu0eE3dA2Xtb",
        "colab_type": "code",
        "colab": {
          "base_uri": "https://localhost:8080/",
          "height": 204
        },
        "outputId": "86103705-d488-4450-fb1c-9e11c0e969dc"
      },
      "source": [
        "#checking the rows which has salaries <=0\n",
        "\n",
        "salaries_df[salaries_df['salary'] <= 0]"
      ],
      "execution_count": 23,
      "outputs": [
        {
          "output_type": "execute_result",
          "data": {
            "text/html": [
              "<div>\n",
              "<style scoped>\n",
              "    .dataframe tbody tr th:only-of-type {\n",
              "        vertical-align: middle;\n",
              "    }\n",
              "\n",
              "    .dataframe tbody tr th {\n",
              "        vertical-align: top;\n",
              "    }\n",
              "\n",
              "    .dataframe thead th {\n",
              "        text-align: right;\n",
              "    }\n",
              "</style>\n",
              "<table border=\"1\" class=\"dataframe\">\n",
              "  <thead>\n",
              "    <tr style=\"text-align: right;\">\n",
              "      <th></th>\n",
              "      <th>jobId</th>\n",
              "      <th>jobType</th>\n",
              "      <th>degree</th>\n",
              "      <th>major</th>\n",
              "      <th>industry</th>\n",
              "      <th>yearsExperience</th>\n",
              "      <th>milesFromMetropolis</th>\n",
              "      <th>salary</th>\n",
              "    </tr>\n",
              "  </thead>\n",
              "  <tbody>\n",
              "    <tr>\n",
              "      <th>30559</th>\n",
              "      <td>JOB1362684438246</td>\n",
              "      <td>JUNIOR</td>\n",
              "      <td>DOCTORAL</td>\n",
              "      <td>MATH</td>\n",
              "      <td>AUTO</td>\n",
              "      <td>11</td>\n",
              "      <td>7</td>\n",
              "      <td>0</td>\n",
              "    </tr>\n",
              "    <tr>\n",
              "      <th>495984</th>\n",
              "      <td>JOB1362684903671</td>\n",
              "      <td>JUNIOR</td>\n",
              "      <td>NONE</td>\n",
              "      <td>NONE</td>\n",
              "      <td>OIL</td>\n",
              "      <td>1</td>\n",
              "      <td>25</td>\n",
              "      <td>0</td>\n",
              "    </tr>\n",
              "    <tr>\n",
              "      <th>652076</th>\n",
              "      <td>JOB1362685059763</td>\n",
              "      <td>CTO</td>\n",
              "      <td>HIGH_SCHOOL</td>\n",
              "      <td>NONE</td>\n",
              "      <td>AUTO</td>\n",
              "      <td>6</td>\n",
              "      <td>60</td>\n",
              "      <td>0</td>\n",
              "    </tr>\n",
              "    <tr>\n",
              "      <th>816129</th>\n",
              "      <td>JOB1362685223816</td>\n",
              "      <td>MANAGER</td>\n",
              "      <td>DOCTORAL</td>\n",
              "      <td>ENGINEERING</td>\n",
              "      <td>FINANCE</td>\n",
              "      <td>18</td>\n",
              "      <td>6</td>\n",
              "      <td>0</td>\n",
              "    </tr>\n",
              "    <tr>\n",
              "      <th>828156</th>\n",
              "      <td>JOB1362685235843</td>\n",
              "      <td>VICE_PRESIDENT</td>\n",
              "      <td>MASTERS</td>\n",
              "      <td>ENGINEERING</td>\n",
              "      <td>WEB</td>\n",
              "      <td>3</td>\n",
              "      <td>29</td>\n",
              "      <td>0</td>\n",
              "    </tr>\n",
              "  </tbody>\n",
              "</table>\n",
              "</div>"
            ],
            "text/plain": [
              "                   jobId         jobType  ... milesFromMetropolis salary\n",
              "30559   JOB1362684438246          JUNIOR  ...                   7      0\n",
              "495984  JOB1362684903671          JUNIOR  ...                  25      0\n",
              "652076  JOB1362685059763             CTO  ...                  60      0\n",
              "816129  JOB1362685223816         MANAGER  ...                   6      0\n",
              "828156  JOB1362685235843  VICE_PRESIDENT  ...                  29      0\n",
              "\n",
              "[5 rows x 8 columns]"
            ]
          },
          "metadata": {
            "tags": []
          },
          "execution_count": 23
        }
      ]
    },
    {
      "cell_type": "code",
      "metadata": {
        "id": "zvSWHNmw36q8",
        "colab_type": "code",
        "colab": {}
      },
      "source": [
        "#dropping the rows from the dataframe\n",
        "\n",
        "salaries_df.drop(salaries_df.index[[30559,495984,652076,816129,828156]], inplace=True )\n"
      ],
      "execution_count": 0,
      "outputs": []
    },
    {
      "cell_type": "code",
      "metadata": {
        "id": "JMfhCCMW4-d1",
        "colab_type": "code",
        "colab": {
          "base_uri": "https://localhost:8080/",
          "height": 49
        },
        "outputId": "abaad0e5-2e9d-411c-df88-71455044025d"
      },
      "source": [
        "#checking the rows which has years of experience < 0\n",
        "\n",
        "salaries_df[salaries_df['yearsExperience'] < 0]"
      ],
      "execution_count": 66,
      "outputs": [
        {
          "output_type": "execute_result",
          "data": {
            "text/html": [
              "<div>\n",
              "<style scoped>\n",
              "    .dataframe tbody tr th:only-of-type {\n",
              "        vertical-align: middle;\n",
              "    }\n",
              "\n",
              "    .dataframe tbody tr th {\n",
              "        vertical-align: top;\n",
              "    }\n",
              "\n",
              "    .dataframe thead th {\n",
              "        text-align: right;\n",
              "    }\n",
              "</style>\n",
              "<table border=\"1\" class=\"dataframe\">\n",
              "  <thead>\n",
              "    <tr style=\"text-align: right;\">\n",
              "      <th></th>\n",
              "      <th>jobId</th>\n",
              "      <th>jobType</th>\n",
              "      <th>degree</th>\n",
              "      <th>major</th>\n",
              "      <th>industry</th>\n",
              "      <th>yearsExperience</th>\n",
              "      <th>milesFromMetropolis</th>\n",
              "      <th>salary</th>\n",
              "    </tr>\n",
              "  </thead>\n",
              "  <tbody>\n",
              "  </tbody>\n",
              "</table>\n",
              "</div>"
            ],
            "text/plain": [
              "Empty DataFrame\n",
              "Columns: [jobId, jobType, degree, major, industry, yearsExperience, milesFromMetropolis, salary]\n",
              "Index: []"
            ]
          },
          "metadata": {
            "tags": []
          },
          "execution_count": 66
        }
      ]
    },
    {
      "cell_type": "code",
      "metadata": {
        "id": "cYDUjGp95D9z",
        "colab_type": "code",
        "colab": {
          "base_uri": "https://localhost:8080/",
          "height": 49
        },
        "outputId": "4d71aa32-1b93-432a-bff2-aef814b4de4a"
      },
      "source": [
        "#checking the rows which has milesFromMetropolis < 0\n",
        "\n",
        "salaries_df[salaries_df['milesFromMetropolis'] < 0]"
      ],
      "execution_count": 67,
      "outputs": [
        {
          "output_type": "execute_result",
          "data": {
            "text/html": [
              "<div>\n",
              "<style scoped>\n",
              "    .dataframe tbody tr th:only-of-type {\n",
              "        vertical-align: middle;\n",
              "    }\n",
              "\n",
              "    .dataframe tbody tr th {\n",
              "        vertical-align: top;\n",
              "    }\n",
              "\n",
              "    .dataframe thead th {\n",
              "        text-align: right;\n",
              "    }\n",
              "</style>\n",
              "<table border=\"1\" class=\"dataframe\">\n",
              "  <thead>\n",
              "    <tr style=\"text-align: right;\">\n",
              "      <th></th>\n",
              "      <th>jobId</th>\n",
              "      <th>jobType</th>\n",
              "      <th>degree</th>\n",
              "      <th>major</th>\n",
              "      <th>industry</th>\n",
              "      <th>yearsExperience</th>\n",
              "      <th>milesFromMetropolis</th>\n",
              "      <th>salary</th>\n",
              "    </tr>\n",
              "  </thead>\n",
              "  <tbody>\n",
              "  </tbody>\n",
              "</table>\n",
              "</div>"
            ],
            "text/plain": [
              "Empty DataFrame\n",
              "Columns: [jobId, jobType, degree, major, industry, yearsExperience, milesFromMetropolis, salary]\n",
              "Index: []"
            ]
          },
          "metadata": {
            "tags": []
          },
          "execution_count": 67
        }
      ]
    },
    {
      "cell_type": "code",
      "metadata": {
        "id": "UvY0CTCGKeIl",
        "colab_type": "code",
        "colab": {}
      },
      "source": [
        ""
      ],
      "execution_count": 0,
      "outputs": []
    },
    {
      "cell_type": "markdown",
      "metadata": {
        "id": "b3V2UsyFR1Ti",
        "colab_type": "text"
      },
      "source": [
        "### ---- 4 Explore the data (EDA) ----"
      ]
    },
    {
      "cell_type": "code",
      "metadata": {
        "id": "x6i1DV0jR1Tk",
        "colab_type": "code",
        "colab": {}
      },
      "source": [
        "#summarize each feature variable\n",
        "#summarize the target variable\n",
        "#look for correlation between each feature and the target\n",
        "#look for correlation between features"
      ],
      "execution_count": 0,
      "outputs": []
    },
    {
      "cell_type": "markdown",
      "metadata": {
        "id": "ftBNDmkJAvI1",
        "colab_type": "text"
      },
      "source": [
        "#### 4.1 Analyzing each feature Patterns using Visualization\n",
        "\n",
        "we can calculate correlation between variables of type \"int64\" using the method corr"
      ]
    },
    {
      "cell_type": "code",
      "metadata": {
        "id": "6tEDpI5Z8Svi",
        "colab_type": "code",
        "colab": {
          "base_uri": "https://localhost:8080/",
          "height": 142
        },
        "outputId": "6ea3317c-16be-47b6-dd90-31cd9f7dc104"
      },
      "source": [
        "salaries_df.corr()"
      ],
      "execution_count": 28,
      "outputs": [
        {
          "output_type": "execute_result",
          "data": {
            "text/html": [
              "<div>\n",
              "<style scoped>\n",
              "    .dataframe tbody tr th:only-of-type {\n",
              "        vertical-align: middle;\n",
              "    }\n",
              "\n",
              "    .dataframe tbody tr th {\n",
              "        vertical-align: top;\n",
              "    }\n",
              "\n",
              "    .dataframe thead th {\n",
              "        text-align: right;\n",
              "    }\n",
              "</style>\n",
              "<table border=\"1\" class=\"dataframe\">\n",
              "  <thead>\n",
              "    <tr style=\"text-align: right;\">\n",
              "      <th></th>\n",
              "      <th>yearsExperience</th>\n",
              "      <th>milesFromMetropolis</th>\n",
              "      <th>salary</th>\n",
              "    </tr>\n",
              "  </thead>\n",
              "  <tbody>\n",
              "    <tr>\n",
              "      <th>yearsExperience</th>\n",
              "      <td>1.000000</td>\n",
              "      <td>0.000672</td>\n",
              "      <td>0.375013</td>\n",
              "    </tr>\n",
              "    <tr>\n",
              "      <th>milesFromMetropolis</th>\n",
              "      <td>0.000672</td>\n",
              "      <td>1.000000</td>\n",
              "      <td>-0.297686</td>\n",
              "    </tr>\n",
              "    <tr>\n",
              "      <th>salary</th>\n",
              "      <td>0.375013</td>\n",
              "      <td>-0.297686</td>\n",
              "      <td>1.000000</td>\n",
              "    </tr>\n",
              "  </tbody>\n",
              "</table>\n",
              "</div>"
            ],
            "text/plain": [
              "                     yearsExperience  milesFromMetropolis    salary\n",
              "yearsExperience             1.000000             0.000672  0.375013\n",
              "milesFromMetropolis         0.000672             1.000000 -0.297686\n",
              "salary                      0.375013            -0.297686  1.000000"
            ]
          },
          "metadata": {
            "tags": []
          },
          "execution_count": 28
        }
      ]
    },
    {
      "cell_type": "code",
      "metadata": {
        "id": "KcDRKfL98TAT",
        "colab_type": "code",
        "colab": {
          "base_uri": "https://localhost:8080/",
          "height": 296
        },
        "outputId": "8851fc6d-dd8f-4a09-fed2-dabc3197704a"
      },
      "source": [
        "# Years of experience as  possible predictor variable of salary\n",
        "\n",
        "sns.regplot(x =\"yearsExperience\",y = \"salary\", data = salaries_df)"
      ],
      "execution_count": 29,
      "outputs": [
        {
          "output_type": "execute_result",
          "data": {
            "text/plain": [
              "<matplotlib.axes._subplots.AxesSubplot at 0x7f272cdf9080>"
            ]
          },
          "metadata": {
            "tags": []
          },
          "execution_count": 29
        },
        {
          "output_type": "display_data",
          "data": {
            "image/png": "[encoded data removed]",
            "text/plain": [
              "<Figure size 432x288 with 1 Axes>"
            ]
          },
          "metadata": {
            "tags": []
          }
        }
      ]
    },
    {
      "cell_type": "markdown",
      "metadata": {
        "id": "jczyJRloHDV3",
        "colab_type": "text"
      },
      "source": [
        "As the years of Experience goes up, the salary is increased, this indicates a positive direct correlation between these two variables. Since we have a lot of datapoints which has same experience we cannot see a perfect scatterplot in this case, But Years of Experience seems like a decent predictor of salary"
      ]
    },
    {
      "cell_type": "markdown",
      "metadata": {
        "id": "t52V_LCqEsTU",
        "colab_type": "text"
      },
      "source": [
        "miles From Metropolis is also a potential preictor of salary"
      ]
    },
    {
      "cell_type": "code",
      "metadata": {
        "id": "CVKUsbSj8TkD",
        "colab_type": "code",
        "colab": {
          "base_uri": "https://localhost:8080/",
          "height": 296
        },
        "outputId": "8f5e40e2-10c7-4c53-8c62-3ae12c17f486"
      },
      "source": [
        "\n",
        "sns.regplot(x =\"milesFromMetropolis\",y = \"salary\", data = salaries_df)"
      ],
      "execution_count": 30,
      "outputs": [
        {
          "output_type": "execute_result",
          "data": {
            "text/plain": [
              "<matplotlib.axes._subplots.AxesSubplot at 0x7f2729089710>"
            ]
          },
          "metadata": {
            "tags": []
          },
          "execution_count": 30
        },
        {
          "output_type": "display_data",
          "data": {
            "image/png": "[encoded data removed]",
            "text/plain": [
              "<Figure size 432x288 with 1 Axes>"
            ]
          },
          "metadata": {
            "tags": []
          }
        }
      ]
    },
    {
      "cell_type": "markdown",
      "metadata": {
        "id": "F-gfoW4BG41Y",
        "colab_type": "text"
      },
      "source": [
        "As milesFromMetropolis increases, salary goes down. This indicates a negative relationship between these two variables. It could be due to various reasons the trend is as such. There is definetly not high inverse relation, but milesFromMetropolis could be a predictor of salary"
      ]
    },
    {
      "cell_type": "markdown",
      "metadata": {
        "id": "GAwqTwBlIsdC",
        "colab_type": "text"
      },
      "source": [
        "##### 4.1.1 looking into categorical variables\n",
        "\n",
        "Lets check relation between \"jobtype\" and \"salary\""
      ]
    },
    {
      "cell_type": "code",
      "metadata": {
        "id": "KjhhW7Ts8TgX",
        "colab_type": "code",
        "colab": {
          "base_uri": "https://localhost:8080/",
          "height": 406
        },
        "outputId": "6b0af3e7-9291-4a47-fce4-fd253e5582fb"
      },
      "source": [
        "plt.figure(figsize = (14,6))\n",
        "sns.boxplot(x=\"jobType\", y=\"salary\", data=salaries_df)\n"
      ],
      "execution_count": 31,
      "outputs": [
        {
          "output_type": "execute_result",
          "data": {
            "text/plain": [
              "<matplotlib.axes._subplots.AxesSubplot at 0x7f2728ff66a0>"
            ]
          },
          "metadata": {
            "tags": []
          },
          "execution_count": 31
        },
        {
          "output_type": "display_data",
          "data": {
            "image/png": "[encoded data removed]",
            "text/plain": [
              "<Figure size 1008x432 with 1 Axes>"
            ]
          },
          "metadata": {
            "tags": []
          }
        }
      ]
    },
    {
      "cell_type": "markdown",
      "metadata": {
        "id": "PljfkaZ4Kk_q",
        "colab_type": "text"
      },
      "source": [
        "From the above plot, we can see that the distribution of salary between the different job type categories differ. So Job Type can be a predictor of salary.\n",
        "\n",
        "Lets check relation between \"degree\" and \"salary\""
      ]
    },
    {
      "cell_type": "code",
      "metadata": {
        "id": "EUGMcH4BLHcG",
        "colab_type": "code",
        "colab": {
          "base_uri": "https://localhost:8080/",
          "height": 406
        },
        "outputId": "14393d3d-e262-4c1e-a5be-f777df8813be"
      },
      "source": [
        "plt.figure(figsize = (14,6))\n",
        "sns.boxplot(x=\"degree\", y=\"salary\", data=salaries_df)"
      ],
      "execution_count": 32,
      "outputs": [
        {
          "output_type": "execute_result",
          "data": {
            "text/plain": [
              "<matplotlib.axes._subplots.AxesSubplot at 0x7f2728f48cc0>"
            ]
          },
          "metadata": {
            "tags": []
          },
          "execution_count": 32
        },
        {
          "output_type": "display_data",
          "data": {
            "image/png": "[encoded data removed]",
            "text/plain": [
              "<Figure size 1008x432 with 1 Axes>"
            ]
          },
          "metadata": {
            "tags": []
          }
        }
      ]
    },
    {
      "cell_type": "markdown",
      "metadata": {
        "id": "RtEIQ3ooLSKN",
        "colab_type": "text"
      },
      "source": [
        "Again, we can see that the distribution of salary between the different degree categories differs. So degree can be a predictor of salary.\n",
        "\n",
        "\n",
        "checking the relation between \"major\" and \"salary\" and relation between \"industry\" and \"salary\""
      ]
    },
    {
      "cell_type": "code",
      "metadata": {
        "id": "IGaF1EcHLvZw",
        "colab_type": "code",
        "colab": {
          "base_uri": "https://localhost:8080/",
          "height": 405
        },
        "outputId": "f3df43ca-518c-4022-bc6b-93f1a096eb40"
      },
      "source": [
        "\n",
        "plt.figure(figsize = (14,6))\n",
        "sns.boxplot(x=\"major\", y=\"salary\", data=salaries_df)\n",
        "\n"
      ],
      "execution_count": 33,
      "outputs": [
        {
          "output_type": "execute_result",
          "data": {
            "text/plain": [
              "<matplotlib.axes._subplots.AxesSubplot at 0x7f272cdee518>"
            ]
          },
          "metadata": {
            "tags": []
          },
          "execution_count": 33
        },
        {
          "output_type": "display_data",
          "data": {
            "image/png": "[encoded data removed]",
            "text/plain": [
              "<Figure size 1008x432 with 1 Axes>"
            ]
          },
          "metadata": {
            "tags": []
          }
        }
      ]
    },
    {
      "cell_type": "markdown",
      "metadata": {
        "id": "7QPI6FhyPx3u",
        "colab_type": "text"
      },
      "source": [
        "We see that the distribution of salary between different \"major\" categories have a significant overlap, so it would not be a good predictor of salary.\n",
        "\n",
        "Relation between \"industry\" and \"Salary\""
      ]
    },
    {
      "cell_type": "code",
      "metadata": {
        "id": "V6iuGHioPn0y",
        "colab_type": "code",
        "colab": {
          "base_uri": "https://localhost:8080/",
          "height": 405
        },
        "outputId": "e9212a3c-d60f-4c97-f573-912a05db880f"
      },
      "source": [
        "plt.figure(figsize = (14,6))\n",
        "sns.boxplot(x=\"industry\", y=\"salary\", data=salaries_df)"
      ],
      "execution_count": 34,
      "outputs": [
        {
          "output_type": "execute_result",
          "data": {
            "text/plain": [
              "<matplotlib.axes._subplots.AxesSubplot at 0x7f272cdc6828>"
            ]
          },
          "metadata": {
            "tags": []
          },
          "execution_count": 34
        },
        {
          "output_type": "display_data",
          "data": {
            "image/png": "[encoded data removed]",
            "text/plain": [
              "<Figure size 1008x432 with 1 Axes>"
            ]
          },
          "metadata": {
            "tags": []
          }
        }
      ]
    },
    {
      "cell_type": "markdown",
      "metadata": {
        "id": "wZkynoUIQTiN",
        "colab_type": "text"
      },
      "source": [
        "we can see that the distribution of salary between the different Industry categories differs. So Industry attribute can be a good predictor of salary."
      ]
    },
    {
      "cell_type": "markdown",
      "metadata": {
        "id": "-_QjiiDtQlol",
        "colab_type": "text"
      },
      "source": [
        "##### 4.1.2 Visualizing target varible\n",
        "\n"
      ]
    },
    {
      "cell_type": "code",
      "metadata": {
        "id": "nshidqvjRDtl",
        "colab_type": "code",
        "colab": {
          "base_uri": "https://localhost:8080/",
          "height": 405
        },
        "outputId": "96825f3e-43c8-4f73-be00-932c9f6d53cf"
      },
      "source": [
        "plt.figure(figsize = (14,6))\n",
        "plt.subplot(1,2,1)\n",
        "sns.distplot(salaries_df['salary'])\n",
        "plt.subplot(1,2,2)\n",
        "sns.boxplot(salaries_df['salary'], orient=\"v\")"
      ],
      "execution_count": 35,
      "outputs": [
        {
          "output_type": "execute_result",
          "data": {
            "text/plain": [
              "<matplotlib.axes._subplots.AxesSubplot at 0x7f2728c93b00>"
            ]
          },
          "metadata": {
            "tags": []
          },
          "execution_count": 35
        },
        {
          "output_type": "display_data",
          "data": {
            "image/png": "[encoded data removed]",
            "text/plain": [
              "<Figure size 1008x432 with 2 Axes>"
            ]
          },
          "metadata": {
            "tags": []
          }
        }
      ]
    },
    {
      "cell_type": "markdown",
      "metadata": {
        "id": "ChzYNeBfRmYW",
        "colab_type": "text"
      },
      "source": [
        "We can see that the salary values are close to normal and from the box plot it looks like we have some outliers we will have to be investigated.\n",
        "\n",
        "#### 4.2 Examing the outliers in our target variable"
      ]
    },
    {
      "cell_type": "code",
      "metadata": {
        "id": "DaOoZYVfVQer",
        "colab_type": "code",
        "colab": {}
      },
      "source": [
        "# using IQR rule\n",
        "\n",
        "salary_stats = salaries_df['salary'].describe()"
      ],
      "execution_count": 0,
      "outputs": []
    },
    {
      "cell_type": "code",
      "metadata": {
        "id": "BBb_M7DZVn8s",
        "colab_type": "code",
        "colab": {
          "base_uri": "https://localhost:8080/",
          "height": 34
        },
        "outputId": "e7f24426-4b65-406d-86f0-302c0f18499f"
      },
      "source": [
        "IQR = salary_stats['75%'] - salary_stats['25%']\n",
        "upper_outliers = salary_stats['75%'] + 1.5* IQR\n",
        "lower_outliers = salary_stats['25%'] - 1.5* IQR\n",
        "\n",
        "print(f\"Upper and lower bounds of outliers are {upper_outliers} and {lower_outliers}\")"
      ],
      "execution_count": 37,
      "outputs": [
        {
          "output_type": "stream",
          "text": [
            "Upper and lower bounds of outliers are 220.5 and 8.5\n"
          ],
          "name": "stdout"
        }
      ]
    },
    {
      "cell_type": "markdown",
      "metadata": {
        "id": "PJylrlzPW6NS",
        "colab_type": "text"
      },
      "source": [
        "Since we have the upper and lower bounds of outliers we can easily check if we have any potential outliers present in our dataset that needs to be removed."
      ]
    },
    {
      "cell_type": "code",
      "metadata": {
        "id": "NmEqRxAr8TbW",
        "colab_type": "code",
        "colab": {
          "base_uri": "https://localhost:8080/",
          "height": 419
        },
        "outputId": "3704e5a3-af34-41f8-e3b7-c82da71df6f6"
      },
      "source": [
        "# checking the outliers in upper bound\n",
        "\n",
        "salaries_df[salaries_df['salary'] > 220.5]"
      ],
      "execution_count": 38,
      "outputs": [
        {
          "output_type": "execute_result",
          "data": {
            "text/html": [
              "<div>\n",
              "<style scoped>\n",
              "    .dataframe tbody tr th:only-of-type {\n",
              "        vertical-align: middle;\n",
              "    }\n",
              "\n",
              "    .dataframe tbody tr th {\n",
              "        vertical-align: top;\n",
              "    }\n",
              "\n",
              "    .dataframe thead th {\n",
              "        text-align: right;\n",
              "    }\n",
              "</style>\n",
              "<table border=\"1\" class=\"dataframe\">\n",
              "  <thead>\n",
              "    <tr style=\"text-align: right;\">\n",
              "      <th></th>\n",
              "      <th>jobId</th>\n",
              "      <th>jobType</th>\n",
              "      <th>degree</th>\n",
              "      <th>major</th>\n",
              "      <th>industry</th>\n",
              "      <th>yearsExperience</th>\n",
              "      <th>milesFromMetropolis</th>\n",
              "      <th>salary</th>\n",
              "    </tr>\n",
              "  </thead>\n",
              "  <tbody>\n",
              "    <tr>\n",
              "      <th>266</th>\n",
              "      <td>JOB1362684407953</td>\n",
              "      <td>CEO</td>\n",
              "      <td>MASTERS</td>\n",
              "      <td>BIOLOGY</td>\n",
              "      <td>OIL</td>\n",
              "      <td>23</td>\n",
              "      <td>60</td>\n",
              "      <td>223</td>\n",
              "    </tr>\n",
              "    <tr>\n",
              "      <th>362</th>\n",
              "      <td>JOB1362684408049</td>\n",
              "      <td>CTO</td>\n",
              "      <td>MASTERS</td>\n",
              "      <td>NONE</td>\n",
              "      <td>HEALTH</td>\n",
              "      <td>24</td>\n",
              "      <td>3</td>\n",
              "      <td>223</td>\n",
              "    </tr>\n",
              "    <tr>\n",
              "      <th>560</th>\n",
              "      <td>JOB1362684408247</td>\n",
              "      <td>CEO</td>\n",
              "      <td>MASTERS</td>\n",
              "      <td>BIOLOGY</td>\n",
              "      <td>WEB</td>\n",
              "      <td>22</td>\n",
              "      <td>7</td>\n",
              "      <td>248</td>\n",
              "    </tr>\n",
              "    <tr>\n",
              "      <th>670</th>\n",
              "      <td>JOB1362684408357</td>\n",
              "      <td>CEO</td>\n",
              "      <td>MASTERS</td>\n",
              "      <td>MATH</td>\n",
              "      <td>AUTO</td>\n",
              "      <td>23</td>\n",
              "      <td>9</td>\n",
              "      <td>240</td>\n",
              "    </tr>\n",
              "    <tr>\n",
              "      <th>719</th>\n",
              "      <td>JOB1362684408406</td>\n",
              "      <td>VICE_PRESIDENT</td>\n",
              "      <td>DOCTORAL</td>\n",
              "      <td>BIOLOGY</td>\n",
              "      <td>OIL</td>\n",
              "      <td>21</td>\n",
              "      <td>14</td>\n",
              "      <td>225</td>\n",
              "    </tr>\n",
              "    <tr>\n",
              "      <th>...</th>\n",
              "      <td>...</td>\n",
              "      <td>...</td>\n",
              "      <td>...</td>\n",
              "      <td>...</td>\n",
              "      <td>...</td>\n",
              "      <td>...</td>\n",
              "      <td>...</td>\n",
              "      <td>...</td>\n",
              "    </tr>\n",
              "    <tr>\n",
              "      <th>998516</th>\n",
              "      <td>JOB1362685406203</td>\n",
              "      <td>CFO</td>\n",
              "      <td>MASTERS</td>\n",
              "      <td>ENGINEERING</td>\n",
              "      <td>WEB</td>\n",
              "      <td>14</td>\n",
              "      <td>46</td>\n",
              "      <td>227</td>\n",
              "    </tr>\n",
              "    <tr>\n",
              "      <th>999249</th>\n",
              "      <td>JOB1362685406936</td>\n",
              "      <td>CEO</td>\n",
              "      <td>NONE</td>\n",
              "      <td>NONE</td>\n",
              "      <td>OIL</td>\n",
              "      <td>17</td>\n",
              "      <td>10</td>\n",
              "      <td>223</td>\n",
              "    </tr>\n",
              "    <tr>\n",
              "      <th>999280</th>\n",
              "      <td>JOB1362685406967</td>\n",
              "      <td>CFO</td>\n",
              "      <td>BACHELORS</td>\n",
              "      <td>BUSINESS</td>\n",
              "      <td>SERVICE</td>\n",
              "      <td>21</td>\n",
              "      <td>0</td>\n",
              "      <td>228</td>\n",
              "    </tr>\n",
              "    <tr>\n",
              "      <th>999670</th>\n",
              "      <td>JOB1362685407357</td>\n",
              "      <td>CEO</td>\n",
              "      <td>DOCTORAL</td>\n",
              "      <td>LITERATURE</td>\n",
              "      <td>SERVICE</td>\n",
              "      <td>24</td>\n",
              "      <td>14</td>\n",
              "      <td>233</td>\n",
              "    </tr>\n",
              "    <tr>\n",
              "      <th>999893</th>\n",
              "      <td>JOB1362685407580</td>\n",
              "      <td>CEO</td>\n",
              "      <td>DOCTORAL</td>\n",
              "      <td>ENGINEERING</td>\n",
              "      <td>FINANCE</td>\n",
              "      <td>17</td>\n",
              "      <td>33</td>\n",
              "      <td>237</td>\n",
              "    </tr>\n",
              "  </tbody>\n",
              "</table>\n",
              "<p>7117 rows × 8 columns</p>\n",
              "</div>"
            ],
            "text/plain": [
              "                   jobId         jobType  ... milesFromMetropolis salary\n",
              "266     JOB1362684407953             CEO  ...                  60    223\n",
              "362     JOB1362684408049             CTO  ...                   3    223\n",
              "560     JOB1362684408247             CEO  ...                   7    248\n",
              "670     JOB1362684408357             CEO  ...                   9    240\n",
              "719     JOB1362684408406  VICE_PRESIDENT  ...                  14    225\n",
              "...                  ...             ...  ...                 ...    ...\n",
              "998516  JOB1362685406203             CFO  ...                  46    227\n",
              "999249  JOB1362685406936             CEO  ...                  10    223\n",
              "999280  JOB1362685406967             CFO  ...                   0    228\n",
              "999670  JOB1362685407357             CEO  ...                  14    233\n",
              "999893  JOB1362685407580             CEO  ...                  33    237\n",
              "\n",
              "[7117 rows x 8 columns]"
            ]
          },
          "metadata": {
            "tags": []
          },
          "execution_count": 38
        }
      ]
    },
    {
      "cell_type": "markdown",
      "metadata": {
        "id": "Tr7TiQm6XkIM",
        "colab_type": "text"
      },
      "source": [
        "we have many rows whose salary is above the upper bound, but it can be seen that most of the jobtypes are higher officials whose salary is generally high.\n",
        "\n",
        "we can check the value counts of the jobtype"
      ]
    },
    {
      "cell_type": "code",
      "metadata": {
        "id": "C5m0sLey8TY0",
        "colab_type": "code",
        "colab": {
          "base_uri": "https://localhost:8080/",
          "height": 153
        },
        "outputId": "5dfc8229-5ce1-47b2-e74d-30390ca6aa96"
      },
      "source": [
        "salaries_df.loc[salaries_df['salary'] > 220.5,'jobType'].value_counts()"
      ],
      "execution_count": 39,
      "outputs": [
        {
          "output_type": "execute_result",
          "data": {
            "text/plain": [
              "CEO               3227\n",
              "CFO               1496\n",
              "CTO               1488\n",
              "VICE_PRESIDENT     603\n",
              "MANAGER            217\n",
              "SENIOR              66\n",
              "JUNIOR              20\n",
              "Name: jobType, dtype: int64"
            ]
          },
          "metadata": {
            "tags": []
          },
          "execution_count": 39
        }
      ]
    },
    {
      "cell_type": "markdown",
      "metadata": {
        "id": "5iPLR3QbYKQm",
        "colab_type": "text"
      },
      "source": [
        "It can be seen that the salary is high for 20 junior level jobs, which can be a potential outliers."
      ]
    },
    {
      "cell_type": "code",
      "metadata": {
        "id": "ku7to3eV8TWW",
        "colab_type": "code",
        "colab": {
          "base_uri": "https://localhost:8080/",
          "height": 669
        },
        "outputId": "61c279b8-6f59-49e8-b8e8-b7f6747d6527"
      },
      "source": [
        "salaries_df[(salaries_df['salary'] > 220.5) &(salaries_df['jobType'] == 'JUNIOR')]"
      ],
      "execution_count": 40,
      "outputs": [
        {
          "output_type": "execute_result",
          "data": {
            "text/html": [
              "<div>\n",
              "<style scoped>\n",
              "    .dataframe tbody tr th:only-of-type {\n",
              "        vertical-align: middle;\n",
              "    }\n",
              "\n",
              "    .dataframe tbody tr th {\n",
              "        vertical-align: top;\n",
              "    }\n",
              "\n",
              "    .dataframe thead th {\n",
              "        text-align: right;\n",
              "    }\n",
              "</style>\n",
              "<table border=\"1\" class=\"dataframe\">\n",
              "  <thead>\n",
              "    <tr style=\"text-align: right;\">\n",
              "      <th></th>\n",
              "      <th>jobId</th>\n",
              "      <th>jobType</th>\n",
              "      <th>degree</th>\n",
              "      <th>major</th>\n",
              "      <th>industry</th>\n",
              "      <th>yearsExperience</th>\n",
              "      <th>milesFromMetropolis</th>\n",
              "      <th>salary</th>\n",
              "    </tr>\n",
              "  </thead>\n",
              "  <tbody>\n",
              "    <tr>\n",
              "      <th>1222</th>\n",
              "      <td>JOB1362684408909</td>\n",
              "      <td>JUNIOR</td>\n",
              "      <td>MASTERS</td>\n",
              "      <td>COMPSCI</td>\n",
              "      <td>OIL</td>\n",
              "      <td>24</td>\n",
              "      <td>5</td>\n",
              "      <td>225</td>\n",
              "    </tr>\n",
              "    <tr>\n",
              "      <th>27710</th>\n",
              "      <td>JOB1362684435397</td>\n",
              "      <td>JUNIOR</td>\n",
              "      <td>DOCTORAL</td>\n",
              "      <td>ENGINEERING</td>\n",
              "      <td>OIL</td>\n",
              "      <td>24</td>\n",
              "      <td>3</td>\n",
              "      <td>246</td>\n",
              "    </tr>\n",
              "    <tr>\n",
              "      <th>31355</th>\n",
              "      <td>JOB1362684439042</td>\n",
              "      <td>JUNIOR</td>\n",
              "      <td>DOCTORAL</td>\n",
              "      <td>COMPSCI</td>\n",
              "      <td>FINANCE</td>\n",
              "      <td>24</td>\n",
              "      <td>0</td>\n",
              "      <td>225</td>\n",
              "    </tr>\n",
              "    <tr>\n",
              "      <th>100042</th>\n",
              "      <td>JOB1362684507729</td>\n",
              "      <td>JUNIOR</td>\n",
              "      <td>DOCTORAL</td>\n",
              "      <td>BUSINESS</td>\n",
              "      <td>FINANCE</td>\n",
              "      <td>23</td>\n",
              "      <td>8</td>\n",
              "      <td>248</td>\n",
              "    </tr>\n",
              "    <tr>\n",
              "      <th>160333</th>\n",
              "      <td>JOB1362684568020</td>\n",
              "      <td>JUNIOR</td>\n",
              "      <td>DOCTORAL</td>\n",
              "      <td>BUSINESS</td>\n",
              "      <td>FINANCE</td>\n",
              "      <td>22</td>\n",
              "      <td>3</td>\n",
              "      <td>223</td>\n",
              "    </tr>\n",
              "    <tr>\n",
              "      <th>189582</th>\n",
              "      <td>JOB1362684597269</td>\n",
              "      <td>JUNIOR</td>\n",
              "      <td>DOCTORAL</td>\n",
              "      <td>BUSINESS</td>\n",
              "      <td>OIL</td>\n",
              "      <td>24</td>\n",
              "      <td>11</td>\n",
              "      <td>221</td>\n",
              "    </tr>\n",
              "    <tr>\n",
              "      <th>214606</th>\n",
              "      <td>JOB1362684622293</td>\n",
              "      <td>JUNIOR</td>\n",
              "      <td>MASTERS</td>\n",
              "      <td>BUSINESS</td>\n",
              "      <td>FINANCE</td>\n",
              "      <td>22</td>\n",
              "      <td>4</td>\n",
              "      <td>222</td>\n",
              "    </tr>\n",
              "    <tr>\n",
              "      <th>303778</th>\n",
              "      <td>JOB1362684711465</td>\n",
              "      <td>JUNIOR</td>\n",
              "      <td>MASTERS</td>\n",
              "      <td>ENGINEERING</td>\n",
              "      <td>WEB</td>\n",
              "      <td>24</td>\n",
              "      <td>2</td>\n",
              "      <td>226</td>\n",
              "    </tr>\n",
              "    <tr>\n",
              "      <th>348354</th>\n",
              "      <td>JOB1362684756041</td>\n",
              "      <td>JUNIOR</td>\n",
              "      <td>DOCTORAL</td>\n",
              "      <td>ENGINEERING</td>\n",
              "      <td>OIL</td>\n",
              "      <td>23</td>\n",
              "      <td>25</td>\n",
              "      <td>226</td>\n",
              "    </tr>\n",
              "    <tr>\n",
              "      <th>427593</th>\n",
              "      <td>JOB1362684835280</td>\n",
              "      <td>JUNIOR</td>\n",
              "      <td>DOCTORAL</td>\n",
              "      <td>ENGINEERING</td>\n",
              "      <td>FINANCE</td>\n",
              "      <td>23</td>\n",
              "      <td>3</td>\n",
              "      <td>221</td>\n",
              "    </tr>\n",
              "    <tr>\n",
              "      <th>500739</th>\n",
              "      <td>JOB1362684908426</td>\n",
              "      <td>JUNIOR</td>\n",
              "      <td>DOCTORAL</td>\n",
              "      <td>ENGINEERING</td>\n",
              "      <td>OIL</td>\n",
              "      <td>21</td>\n",
              "      <td>0</td>\n",
              "      <td>227</td>\n",
              "    </tr>\n",
              "    <tr>\n",
              "      <th>627534</th>\n",
              "      <td>JOB1362685035221</td>\n",
              "      <td>JUNIOR</td>\n",
              "      <td>DOCTORAL</td>\n",
              "      <td>ENGINEERING</td>\n",
              "      <td>OIL</td>\n",
              "      <td>24</td>\n",
              "      <td>29</td>\n",
              "      <td>230</td>\n",
              "    </tr>\n",
              "    <tr>\n",
              "      <th>645555</th>\n",
              "      <td>JOB1362685053242</td>\n",
              "      <td>JUNIOR</td>\n",
              "      <td>DOCTORAL</td>\n",
              "      <td>BUSINESS</td>\n",
              "      <td>FINANCE</td>\n",
              "      <td>24</td>\n",
              "      <td>1</td>\n",
              "      <td>225</td>\n",
              "    </tr>\n",
              "    <tr>\n",
              "      <th>656572</th>\n",
              "      <td>JOB1362685064259</td>\n",
              "      <td>JUNIOR</td>\n",
              "      <td>DOCTORAL</td>\n",
              "      <td>BUSINESS</td>\n",
              "      <td>OIL</td>\n",
              "      <td>22</td>\n",
              "      <td>3</td>\n",
              "      <td>222</td>\n",
              "    </tr>\n",
              "    <tr>\n",
              "      <th>685775</th>\n",
              "      <td>JOB1362685093462</td>\n",
              "      <td>JUNIOR</td>\n",
              "      <td>BACHELORS</td>\n",
              "      <td>ENGINEERING</td>\n",
              "      <td>OIL</td>\n",
              "      <td>24</td>\n",
              "      <td>13</td>\n",
              "      <td>225</td>\n",
              "    </tr>\n",
              "    <tr>\n",
              "      <th>743326</th>\n",
              "      <td>JOB1362685151013</td>\n",
              "      <td>JUNIOR</td>\n",
              "      <td>DOCTORAL</td>\n",
              "      <td>BUSINESS</td>\n",
              "      <td>FINANCE</td>\n",
              "      <td>19</td>\n",
              "      <td>0</td>\n",
              "      <td>236</td>\n",
              "    </tr>\n",
              "    <tr>\n",
              "      <th>787674</th>\n",
              "      <td>JOB1362685195361</td>\n",
              "      <td>JUNIOR</td>\n",
              "      <td>DOCTORAL</td>\n",
              "      <td>BUSINESS</td>\n",
              "      <td>FINANCE</td>\n",
              "      <td>18</td>\n",
              "      <td>15</td>\n",
              "      <td>232</td>\n",
              "    </tr>\n",
              "    <tr>\n",
              "      <th>796956</th>\n",
              "      <td>JOB1362685204643</td>\n",
              "      <td>JUNIOR</td>\n",
              "      <td>MASTERS</td>\n",
              "      <td>BUSINESS</td>\n",
              "      <td>OIL</td>\n",
              "      <td>24</td>\n",
              "      <td>2</td>\n",
              "      <td>228</td>\n",
              "    </tr>\n",
              "    <tr>\n",
              "      <th>855219</th>\n",
              "      <td>JOB1362685262906</td>\n",
              "      <td>JUNIOR</td>\n",
              "      <td>MASTERS</td>\n",
              "      <td>ENGINEERING</td>\n",
              "      <td>OIL</td>\n",
              "      <td>22</td>\n",
              "      <td>26</td>\n",
              "      <td>225</td>\n",
              "    </tr>\n",
              "    <tr>\n",
              "      <th>954368</th>\n",
              "      <td>JOB1362685362055</td>\n",
              "      <td>JUNIOR</td>\n",
              "      <td>DOCTORAL</td>\n",
              "      <td>BUSINESS</td>\n",
              "      <td>OIL</td>\n",
              "      <td>24</td>\n",
              "      <td>26</td>\n",
              "      <td>223</td>\n",
              "    </tr>\n",
              "  </tbody>\n",
              "</table>\n",
              "</div>"
            ],
            "text/plain": [
              "                   jobId jobType  ... milesFromMetropolis salary\n",
              "1222    JOB1362684408909  JUNIOR  ...                   5    225\n",
              "27710   JOB1362684435397  JUNIOR  ...                   3    246\n",
              "31355   JOB1362684439042  JUNIOR  ...                   0    225\n",
              "100042  JOB1362684507729  JUNIOR  ...                   8    248\n",
              "160333  JOB1362684568020  JUNIOR  ...                   3    223\n",
              "189582  JOB1362684597269  JUNIOR  ...                  11    221\n",
              "214606  JOB1362684622293  JUNIOR  ...                   4    222\n",
              "303778  JOB1362684711465  JUNIOR  ...                   2    226\n",
              "348354  JOB1362684756041  JUNIOR  ...                  25    226\n",
              "427593  JOB1362684835280  JUNIOR  ...                   3    221\n",
              "500739  JOB1362684908426  JUNIOR  ...                   0    227\n",
              "627534  JOB1362685035221  JUNIOR  ...                  29    230\n",
              "645555  JOB1362685053242  JUNIOR  ...                   1    225\n",
              "656572  JOB1362685064259  JUNIOR  ...                   3    222\n",
              "685775  JOB1362685093462  JUNIOR  ...                  13    225\n",
              "743326  JOB1362685151013  JUNIOR  ...                   0    236\n",
              "787674  JOB1362685195361  JUNIOR  ...                  15    232\n",
              "796956  JOB1362685204643  JUNIOR  ...                   2    228\n",
              "855219  JOB1362685262906  JUNIOR  ...                  26    225\n",
              "954368  JOB1362685362055  JUNIOR  ...                  26    223\n",
              "\n",
              "[20 rows x 8 columns]"
            ]
          },
          "metadata": {
            "tags": []
          },
          "execution_count": 40
        }
      ]
    },
    {
      "cell_type": "markdown",
      "metadata": {
        "id": "ClatV1HjY2vC",
        "colab_type": "text"
      },
      "source": [
        "It is clearly visible that the jobs which pay high salaries for JUNIOR roles is from \"OIL\" and \"Finance\" which can be the ideal case. so these all are not potential outliers , we keep them in the training data set."
      ]
    },
    {
      "cell_type": "markdown",
      "metadata": {
        "id": "4XfANiHPH63k",
        "colab_type": "text"
      },
      "source": [
        "I am dropping the varibles which we found will not be potential predictors of salary.\n",
        "\n"
      ]
    },
    {
      "cell_type": "markdown",
      "metadata": {
        "id": "L3GIYuheiJo0",
        "colab_type": "text"
      },
      "source": [
        "### 4.3 encoding categorical data for both training and testing data"
      ]
    },
    {
      "cell_type": "code",
      "metadata": {
        "id": "UP7gL_vcjL5W",
        "colab_type": "code",
        "colab": {}
      },
      "source": [
        "def one_hot_encode(df, categorical_var):\n",
        "  categ_df = pd.get_dummies(df[categorical_var])\n",
        "  return categ_df"
      ],
      "execution_count": 0,
      "outputs": []
    },
    {
      "cell_type": "markdown",
      "metadata": {
        "id": "VlAeT2QnJ9Mt",
        "colab_type": "text"
      },
      "source": [
        "One hot encoding the train data"
      ]
    },
    {
      "cell_type": "code",
      "metadata": {
        "id": "mdCaCKyxkSXt",
        "colab_type": "code",
        "colab": {}
      },
      "source": [
        "categories = ['jobType','degree','major','industry']\n",
        "\n",
        "salaries_categ_df = one_hot_encode(salaries_df,categories)\n"
      ],
      "execution_count": 0,
      "outputs": []
    },
    {
      "cell_type": "code",
      "metadata": {
        "id": "47_AjvD9DD6k",
        "colab_type": "code",
        "colab": {}
      },
      "source": [
        "\n",
        "\n",
        "# merge data frame \"salaries_df\" and \"salaries_categ_df\" \n",
        "train_salaries_df = pd.concat([salaries_df, salaries_categ_df], axis=1)\n",
        "\n",
        "# drop original columns from datafrme\n",
        "train_salaries_df.drop(['jobType','degree','major','industry'], axis = 1, inplace=True)"
      ],
      "execution_count": 0,
      "outputs": []
    },
    {
      "cell_type": "code",
      "metadata": {
        "id": "FMuh2m0NDEU-",
        "colab_type": "code",
        "colab": {
          "base_uri": "https://localhost:8080/",
          "height": 224
        },
        "outputId": "25afa4cb-e510-4fb4-a478-9ac1b553bb85"
      },
      "source": [
        "train_salaries_df.head()\n"
      ],
      "execution_count": 137,
      "outputs": [
        {
          "output_type": "execute_result",
          "data": {
            "text/html": [
              "<div>\n",
              "<style scoped>\n",
              "    .dataframe tbody tr th:only-of-type {\n",
              "        vertical-align: middle;\n",
              "    }\n",
              "\n",
              "    .dataframe tbody tr th {\n",
              "        vertical-align: top;\n",
              "    }\n",
              "\n",
              "    .dataframe thead th {\n",
              "        text-align: right;\n",
              "    }\n",
              "</style>\n",
              "<table border=\"1\" class=\"dataframe\">\n",
              "  <thead>\n",
              "    <tr style=\"text-align: right;\">\n",
              "      <th></th>\n",
              "      <th>jobId</th>\n",
              "      <th>yearsExperience</th>\n",
              "      <th>milesFromMetropolis</th>\n",
              "      <th>salary</th>\n",
              "      <th>jobType_CEO</th>\n",
              "      <th>jobType_CFO</th>\n",
              "      <th>jobType_CTO</th>\n",
              "      <th>jobType_JANITOR</th>\n",
              "      <th>jobType_JUNIOR</th>\n",
              "      <th>jobType_MANAGER</th>\n",
              "      <th>jobType_SENIOR</th>\n",
              "      <th>jobType_VICE_PRESIDENT</th>\n",
              "      <th>degree_BACHELORS</th>\n",
              "      <th>degree_DOCTORAL</th>\n",
              "      <th>degree_HIGH_SCHOOL</th>\n",
              "      <th>degree_MASTERS</th>\n",
              "      <th>degree_NONE</th>\n",
              "      <th>major_BIOLOGY</th>\n",
              "      <th>major_BUSINESS</th>\n",
              "      <th>major_CHEMISTRY</th>\n",
              "      <th>major_COMPSCI</th>\n",
              "      <th>major_ENGINEERING</th>\n",
              "      <th>major_LITERATURE</th>\n",
              "      <th>major_MATH</th>\n",
              "      <th>major_NONE</th>\n",
              "      <th>major_PHYSICS</th>\n",
              "      <th>industry_AUTO</th>\n",
              "      <th>industry_EDUCATION</th>\n",
              "      <th>industry_FINANCE</th>\n",
              "      <th>industry_HEALTH</th>\n",
              "      <th>industry_OIL</th>\n",
              "      <th>industry_SERVICE</th>\n",
              "      <th>industry_WEB</th>\n",
              "    </tr>\n",
              "  </thead>\n",
              "  <tbody>\n",
              "    <tr>\n",
              "      <th>0</th>\n",
              "      <td>JOB1362684407687</td>\n",
              "      <td>10</td>\n",
              "      <td>83</td>\n",
              "      <td>130</td>\n",
              "      <td>0</td>\n",
              "      <td>1</td>\n",
              "      <td>0</td>\n",
              "      <td>0</td>\n",
              "      <td>0</td>\n",
              "      <td>0</td>\n",
              "      <td>0</td>\n",
              "      <td>0</td>\n",
              "      <td>0</td>\n",
              "      <td>0</td>\n",
              "      <td>0</td>\n",
              "      <td>1</td>\n",
              "      <td>0</td>\n",
              "      <td>0</td>\n",
              "      <td>0</td>\n",
              "      <td>0</td>\n",
              "      <td>0</td>\n",
              "      <td>0</td>\n",
              "      <td>0</td>\n",
              "      <td>1</td>\n",
              "      <td>0</td>\n",
              "      <td>0</td>\n",
              "      <td>0</td>\n",
              "      <td>0</td>\n",
              "      <td>0</td>\n",
              "      <td>1</td>\n",
              "      <td>0</td>\n",
              "      <td>0</td>\n",
              "      <td>0</td>\n",
              "    </tr>\n",
              "    <tr>\n",
              "      <th>1</th>\n",
              "      <td>JOB1362684407688</td>\n",
              "      <td>3</td>\n",
              "      <td>73</td>\n",
              "      <td>101</td>\n",
              "      <td>1</td>\n",
              "      <td>0</td>\n",
              "      <td>0</td>\n",
              "      <td>0</td>\n",
              "      <td>0</td>\n",
              "      <td>0</td>\n",
              "      <td>0</td>\n",
              "      <td>0</td>\n",
              "      <td>0</td>\n",
              "      <td>0</td>\n",
              "      <td>1</td>\n",
              "      <td>0</td>\n",
              "      <td>0</td>\n",
              "      <td>0</td>\n",
              "      <td>0</td>\n",
              "      <td>0</td>\n",
              "      <td>0</td>\n",
              "      <td>0</td>\n",
              "      <td>0</td>\n",
              "      <td>0</td>\n",
              "      <td>1</td>\n",
              "      <td>0</td>\n",
              "      <td>0</td>\n",
              "      <td>0</td>\n",
              "      <td>0</td>\n",
              "      <td>0</td>\n",
              "      <td>0</td>\n",
              "      <td>0</td>\n",
              "      <td>1</td>\n",
              "    </tr>\n",
              "    <tr>\n",
              "      <th>2</th>\n",
              "      <td>JOB1362684407689</td>\n",
              "      <td>10</td>\n",
              "      <td>38</td>\n",
              "      <td>137</td>\n",
              "      <td>0</td>\n",
              "      <td>0</td>\n",
              "      <td>0</td>\n",
              "      <td>0</td>\n",
              "      <td>0</td>\n",
              "      <td>0</td>\n",
              "      <td>0</td>\n",
              "      <td>1</td>\n",
              "      <td>0</td>\n",
              "      <td>1</td>\n",
              "      <td>0</td>\n",
              "      <td>0</td>\n",
              "      <td>0</td>\n",
              "      <td>0</td>\n",
              "      <td>0</td>\n",
              "      <td>0</td>\n",
              "      <td>0</td>\n",
              "      <td>0</td>\n",
              "      <td>0</td>\n",
              "      <td>0</td>\n",
              "      <td>0</td>\n",
              "      <td>1</td>\n",
              "      <td>0</td>\n",
              "      <td>0</td>\n",
              "      <td>0</td>\n",
              "      <td>1</td>\n",
              "      <td>0</td>\n",
              "      <td>0</td>\n",
              "      <td>0</td>\n",
              "    </tr>\n",
              "    <tr>\n",
              "      <th>3</th>\n",
              "      <td>JOB1362684407690</td>\n",
              "      <td>8</td>\n",
              "      <td>17</td>\n",
              "      <td>142</td>\n",
              "      <td>0</td>\n",
              "      <td>0</td>\n",
              "      <td>0</td>\n",
              "      <td>0</td>\n",
              "      <td>0</td>\n",
              "      <td>1</td>\n",
              "      <td>0</td>\n",
              "      <td>0</td>\n",
              "      <td>0</td>\n",
              "      <td>1</td>\n",
              "      <td>0</td>\n",
              "      <td>0</td>\n",
              "      <td>0</td>\n",
              "      <td>0</td>\n",
              "      <td>0</td>\n",
              "      <td>1</td>\n",
              "      <td>0</td>\n",
              "      <td>0</td>\n",
              "      <td>0</td>\n",
              "      <td>0</td>\n",
              "      <td>0</td>\n",
              "      <td>0</td>\n",
              "      <td>1</td>\n",
              "      <td>0</td>\n",
              "      <td>0</td>\n",
              "      <td>0</td>\n",
              "      <td>0</td>\n",
              "      <td>0</td>\n",
              "      <td>0</td>\n",
              "    </tr>\n",
              "    <tr>\n",
              "      <th>4</th>\n",
              "      <td>JOB1362684407691</td>\n",
              "      <td>8</td>\n",
              "      <td>16</td>\n",
              "      <td>163</td>\n",
              "      <td>0</td>\n",
              "      <td>0</td>\n",
              "      <td>0</td>\n",
              "      <td>0</td>\n",
              "      <td>0</td>\n",
              "      <td>0</td>\n",
              "      <td>0</td>\n",
              "      <td>1</td>\n",
              "      <td>1</td>\n",
              "      <td>0</td>\n",
              "      <td>0</td>\n",
              "      <td>0</td>\n",
              "      <td>0</td>\n",
              "      <td>0</td>\n",
              "      <td>0</td>\n",
              "      <td>0</td>\n",
              "      <td>0</td>\n",
              "      <td>0</td>\n",
              "      <td>0</td>\n",
              "      <td>0</td>\n",
              "      <td>0</td>\n",
              "      <td>1</td>\n",
              "      <td>0</td>\n",
              "      <td>0</td>\n",
              "      <td>1</td>\n",
              "      <td>0</td>\n",
              "      <td>0</td>\n",
              "      <td>0</td>\n",
              "      <td>0</td>\n",
              "    </tr>\n",
              "  </tbody>\n",
              "</table>\n",
              "</div>"
            ],
            "text/plain": [
              "              jobId  yearsExperience  ...  industry_SERVICE  industry_WEB\n",
              "0  JOB1362684407687               10  ...                 0             0\n",
              "1  JOB1362684407688                3  ...                 0             1\n",
              "2  JOB1362684407689               10  ...                 0             0\n",
              "3  JOB1362684407690                8  ...                 0             0\n",
              "4  JOB1362684407691                8  ...                 0             0\n",
              "\n",
              "[5 rows x 33 columns]"
            ]
          },
          "metadata": {
            "tags": []
          },
          "execution_count": 137
        }
      ]
    },
    {
      "cell_type": "markdown",
      "metadata": {
        "id": "k1CmP5ajKDw0",
        "colab_type": "text"
      },
      "source": [
        "one hot encoding the test data"
      ]
    },
    {
      "cell_type": "code",
      "metadata": {
        "id": "q68hiRSJDe4z",
        "colab_type": "code",
        "colab": {}
      },
      "source": [
        "test_dummy_df = one_hot_encode(test_features_df ,categories)\n",
        "\n",
        "# merge data frame \"salaries_df\" and \"test_features_df\" \n",
        "test_salaries_df = pd.concat([test_features_df, test_dummy_df], axis=1)\n",
        "\n",
        "# drop original columns from dataframe\n",
        "test_salaries_df.drop(['jobType','degree','major','industry'], axis = 1, inplace=True)"
      ],
      "execution_count": 0,
      "outputs": []
    },
    {
      "cell_type": "code",
      "metadata": {
        "id": "s3PefX59DEPN",
        "colab_type": "code",
        "colab": {
          "base_uri": "https://localhost:8080/",
          "height": 224
        },
        "outputId": "216f63a7-1d08-44e4-8a96-7b9c75a4db08"
      },
      "source": [
        "test_salaries_df.head()"
      ],
      "execution_count": 138,
      "outputs": [
        {
          "output_type": "execute_result",
          "data": {
            "text/html": [
              "<div>\n",
              "<style scoped>\n",
              "    .dataframe tbody tr th:only-of-type {\n",
              "        vertical-align: middle;\n",
              "    }\n",
              "\n",
              "    .dataframe tbody tr th {\n",
              "        vertical-align: top;\n",
              "    }\n",
              "\n",
              "    .dataframe thead th {\n",
              "        text-align: right;\n",
              "    }\n",
              "</style>\n",
              "<table border=\"1\" class=\"dataframe\">\n",
              "  <thead>\n",
              "    <tr style=\"text-align: right;\">\n",
              "      <th></th>\n",
              "      <th>jobId</th>\n",
              "      <th>yearsExperience</th>\n",
              "      <th>milesFromMetropolis</th>\n",
              "      <th>jobType_CEO</th>\n",
              "      <th>jobType_CFO</th>\n",
              "      <th>jobType_CTO</th>\n",
              "      <th>jobType_JANITOR</th>\n",
              "      <th>jobType_JUNIOR</th>\n",
              "      <th>jobType_MANAGER</th>\n",
              "      <th>jobType_SENIOR</th>\n",
              "      <th>jobType_VICE_PRESIDENT</th>\n",
              "      <th>degree_BACHELORS</th>\n",
              "      <th>degree_DOCTORAL</th>\n",
              "      <th>degree_HIGH_SCHOOL</th>\n",
              "      <th>degree_MASTERS</th>\n",
              "      <th>degree_NONE</th>\n",
              "      <th>major_BIOLOGY</th>\n",
              "      <th>major_BUSINESS</th>\n",
              "      <th>major_CHEMISTRY</th>\n",
              "      <th>major_COMPSCI</th>\n",
              "      <th>major_ENGINEERING</th>\n",
              "      <th>major_LITERATURE</th>\n",
              "      <th>major_MATH</th>\n",
              "      <th>major_NONE</th>\n",
              "      <th>major_PHYSICS</th>\n",
              "      <th>industry_AUTO</th>\n",
              "      <th>industry_EDUCATION</th>\n",
              "      <th>industry_FINANCE</th>\n",
              "      <th>industry_HEALTH</th>\n",
              "      <th>industry_OIL</th>\n",
              "      <th>industry_SERVICE</th>\n",
              "      <th>industry_WEB</th>\n",
              "    </tr>\n",
              "  </thead>\n",
              "  <tbody>\n",
              "    <tr>\n",
              "      <th>0</th>\n",
              "      <td>JOB1362685407687</td>\n",
              "      <td>22</td>\n",
              "      <td>73</td>\n",
              "      <td>0</td>\n",
              "      <td>0</td>\n",
              "      <td>0</td>\n",
              "      <td>0</td>\n",
              "      <td>0</td>\n",
              "      <td>1</td>\n",
              "      <td>0</td>\n",
              "      <td>0</td>\n",
              "      <td>0</td>\n",
              "      <td>0</td>\n",
              "      <td>1</td>\n",
              "      <td>0</td>\n",
              "      <td>0</td>\n",
              "      <td>0</td>\n",
              "      <td>0</td>\n",
              "      <td>0</td>\n",
              "      <td>0</td>\n",
              "      <td>0</td>\n",
              "      <td>0</td>\n",
              "      <td>0</td>\n",
              "      <td>1</td>\n",
              "      <td>0</td>\n",
              "      <td>0</td>\n",
              "      <td>0</td>\n",
              "      <td>0</td>\n",
              "      <td>1</td>\n",
              "      <td>0</td>\n",
              "      <td>0</td>\n",
              "      <td>0</td>\n",
              "    </tr>\n",
              "    <tr>\n",
              "      <th>1</th>\n",
              "      <td>JOB1362685407688</td>\n",
              "      <td>20</td>\n",
              "      <td>47</td>\n",
              "      <td>0</td>\n",
              "      <td>0</td>\n",
              "      <td>0</td>\n",
              "      <td>0</td>\n",
              "      <td>1</td>\n",
              "      <td>0</td>\n",
              "      <td>0</td>\n",
              "      <td>0</td>\n",
              "      <td>0</td>\n",
              "      <td>0</td>\n",
              "      <td>0</td>\n",
              "      <td>0</td>\n",
              "      <td>1</td>\n",
              "      <td>0</td>\n",
              "      <td>0</td>\n",
              "      <td>0</td>\n",
              "      <td>0</td>\n",
              "      <td>0</td>\n",
              "      <td>0</td>\n",
              "      <td>0</td>\n",
              "      <td>1</td>\n",
              "      <td>0</td>\n",
              "      <td>1</td>\n",
              "      <td>0</td>\n",
              "      <td>0</td>\n",
              "      <td>0</td>\n",
              "      <td>0</td>\n",
              "      <td>0</td>\n",
              "      <td>0</td>\n",
              "    </tr>\n",
              "    <tr>\n",
              "      <th>2</th>\n",
              "      <td>JOB1362685407689</td>\n",
              "      <td>17</td>\n",
              "      <td>9</td>\n",
              "      <td>0</td>\n",
              "      <td>0</td>\n",
              "      <td>1</td>\n",
              "      <td>0</td>\n",
              "      <td>0</td>\n",
              "      <td>0</td>\n",
              "      <td>0</td>\n",
              "      <td>0</td>\n",
              "      <td>0</td>\n",
              "      <td>0</td>\n",
              "      <td>0</td>\n",
              "      <td>1</td>\n",
              "      <td>0</td>\n",
              "      <td>1</td>\n",
              "      <td>0</td>\n",
              "      <td>0</td>\n",
              "      <td>0</td>\n",
              "      <td>0</td>\n",
              "      <td>0</td>\n",
              "      <td>0</td>\n",
              "      <td>0</td>\n",
              "      <td>0</td>\n",
              "      <td>0</td>\n",
              "      <td>0</td>\n",
              "      <td>0</td>\n",
              "      <td>1</td>\n",
              "      <td>0</td>\n",
              "      <td>0</td>\n",
              "      <td>0</td>\n",
              "    </tr>\n",
              "    <tr>\n",
              "      <th>3</th>\n",
              "      <td>JOB1362685407690</td>\n",
              "      <td>14</td>\n",
              "      <td>96</td>\n",
              "      <td>0</td>\n",
              "      <td>0</td>\n",
              "      <td>0</td>\n",
              "      <td>0</td>\n",
              "      <td>0</td>\n",
              "      <td>1</td>\n",
              "      <td>0</td>\n",
              "      <td>0</td>\n",
              "      <td>0</td>\n",
              "      <td>0</td>\n",
              "      <td>1</td>\n",
              "      <td>0</td>\n",
              "      <td>0</td>\n",
              "      <td>0</td>\n",
              "      <td>0</td>\n",
              "      <td>0</td>\n",
              "      <td>0</td>\n",
              "      <td>0</td>\n",
              "      <td>0</td>\n",
              "      <td>0</td>\n",
              "      <td>1</td>\n",
              "      <td>0</td>\n",
              "      <td>0</td>\n",
              "      <td>0</td>\n",
              "      <td>0</td>\n",
              "      <td>0</td>\n",
              "      <td>1</td>\n",
              "      <td>0</td>\n",
              "      <td>0</td>\n",
              "    </tr>\n",
              "    <tr>\n",
              "      <th>4</th>\n",
              "      <td>JOB1362685407691</td>\n",
              "      <td>10</td>\n",
              "      <td>44</td>\n",
              "      <td>0</td>\n",
              "      <td>0</td>\n",
              "      <td>0</td>\n",
              "      <td>0</td>\n",
              "      <td>1</td>\n",
              "      <td>0</td>\n",
              "      <td>0</td>\n",
              "      <td>0</td>\n",
              "      <td>0</td>\n",
              "      <td>1</td>\n",
              "      <td>0</td>\n",
              "      <td>0</td>\n",
              "      <td>0</td>\n",
              "      <td>1</td>\n",
              "      <td>0</td>\n",
              "      <td>0</td>\n",
              "      <td>0</td>\n",
              "      <td>0</td>\n",
              "      <td>0</td>\n",
              "      <td>0</td>\n",
              "      <td>0</td>\n",
              "      <td>0</td>\n",
              "      <td>0</td>\n",
              "      <td>0</td>\n",
              "      <td>0</td>\n",
              "      <td>0</td>\n",
              "      <td>1</td>\n",
              "      <td>0</td>\n",
              "      <td>0</td>\n",
              "    </tr>\n",
              "  </tbody>\n",
              "</table>\n",
              "</div>"
            ],
            "text/plain": [
              "              jobId  yearsExperience  ...  industry_SERVICE  industry_WEB\n",
              "0  JOB1362685407687               22  ...                 0             0\n",
              "1  JOB1362685407688               20  ...                 0             0\n",
              "2  JOB1362685407689               17  ...                 0             0\n",
              "3  JOB1362685407690               14  ...                 0             0\n",
              "4  JOB1362685407691               10  ...                 0             0\n",
              "\n",
              "[5 rows x 32 columns]"
            ]
          },
          "metadata": {
            "tags": []
          },
          "execution_count": 138
        }
      ]
    },
    {
      "cell_type": "markdown",
      "metadata": {
        "id": "dOsUshXKNZjd",
        "colab_type": "text"
      },
      "source": [
        "Now we have our data ready to be used for developing any machine learning model."
      ]
    },
    {
      "cell_type": "markdown",
      "metadata": {
        "id": "rpMeKvaXR1Tv",
        "colab_type": "text"
      },
      "source": [
        "### ---- 5 Establish a baseline ----"
      ]
    },
    {
      "cell_type": "markdown",
      "metadata": {
        "id": "wv4Bmkr_BQyv",
        "colab_type": "text"
      },
      "source": [
        "Now I will be creating a simple base line model and measure its efficacy. This will give us a base to start with and we can improve our performance using different models later.\n",
        "\n",
        "I will calculate \"average Salary\" for each industry and simply assign each job posting a mean salary of corresponding industry.\n",
        "\n",
        "I will be using MSE as the scoring metric, it is most simple metric and gives decent results for regression problems."
      ]
    },
    {
      "cell_type": "code",
      "metadata": {
        "id": "M4QoLYp3jLHg",
        "colab_type": "code",
        "colab": {}
      },
      "source": [
        "# calculating industry mean and calculating the scoring metric\n",
        "\n",
        "avg_sal = salaries_df.groupby('industry')['salary'].mean().to_dict()"
      ],
      "execution_count": 0,
      "outputs": []
    },
    {
      "cell_type": "code",
      "metadata": {
        "id": "9tXJ_DBSRQxE",
        "colab_type": "code",
        "colab": {
          "base_uri": "https://localhost:8080/",
          "height": 136
        },
        "outputId": "2cabd1c7-efea-4941-994c-d6bed8293c75"
      },
      "source": [
        "\n",
        "avg_sal"
      ],
      "execution_count": 85,
      "outputs": [
        {
          "output_type": "execute_result",
          "data": {
            "text/plain": [
              "{'AUTO': 109.43522152496485,\n",
              " 'EDUCATION': 99.44838571898697,\n",
              " 'FINANCE': 130.747658645164,\n",
              " 'HEALTH': 115.7355399110364,\n",
              " 'OIL': 130.95386285634237,\n",
              " 'SERVICE': 104.44682029458984,\n",
              " 'WEB': 121.6453615446388}"
            ]
          },
          "metadata": {
            "tags": []
          },
          "execution_count": 85
        }
      ]
    },
    {
      "cell_type": "code",
      "metadata": {
        "id": "kUl7XfkERQsA",
        "colab_type": "code",
        "colab": {
          "base_uri": "https://localhost:8080/",
          "height": 204
        },
        "outputId": "2b200f2c-eee9-43eb-9f5d-e79c94a78316"
      },
      "source": [
        "#creating a new column and placing these values corresponding to the industry \n",
        "\n",
        "salaries_df['Predicted salary'] = ''\n",
        "\n",
        "#asssigning the values for the new column\n",
        "\n",
        "for i in range(len(salaries_df)):\n",
        "  salaries_df['Predicted salary'].values[i] = avg_sal[salaries_df['industry'].values[i]]\n",
        "\n",
        "salaries_df.head()  "
      ],
      "execution_count": 140,
      "outputs": [
        {
          "output_type": "execute_result",
          "data": {
            "text/html": [
              "<div>\n",
              "<style scoped>\n",
              "    .dataframe tbody tr th:only-of-type {\n",
              "        vertical-align: middle;\n",
              "    }\n",
              "\n",
              "    .dataframe tbody tr th {\n",
              "        vertical-align: top;\n",
              "    }\n",
              "\n",
              "    .dataframe thead th {\n",
              "        text-align: right;\n",
              "    }\n",
              "</style>\n",
              "<table border=\"1\" class=\"dataframe\">\n",
              "  <thead>\n",
              "    <tr style=\"text-align: right;\">\n",
              "      <th></th>\n",
              "      <th>jobId</th>\n",
              "      <th>jobType</th>\n",
              "      <th>degree</th>\n",
              "      <th>major</th>\n",
              "      <th>industry</th>\n",
              "      <th>yearsExperience</th>\n",
              "      <th>milesFromMetropolis</th>\n",
              "      <th>salary</th>\n",
              "      <th>Predicted salary</th>\n",
              "    </tr>\n",
              "  </thead>\n",
              "  <tbody>\n",
              "    <tr>\n",
              "      <th>0</th>\n",
              "      <td>JOB1362684407687</td>\n",
              "      <td>CFO</td>\n",
              "      <td>MASTERS</td>\n",
              "      <td>MATH</td>\n",
              "      <td>HEALTH</td>\n",
              "      <td>10</td>\n",
              "      <td>83</td>\n",
              "      <td>130</td>\n",
              "      <td>115.736</td>\n",
              "    </tr>\n",
              "    <tr>\n",
              "      <th>1</th>\n",
              "      <td>JOB1362684407688</td>\n",
              "      <td>CEO</td>\n",
              "      <td>HIGH_SCHOOL</td>\n",
              "      <td>NONE</td>\n",
              "      <td>WEB</td>\n",
              "      <td>3</td>\n",
              "      <td>73</td>\n",
              "      <td>101</td>\n",
              "      <td>121.645</td>\n",
              "    </tr>\n",
              "    <tr>\n",
              "      <th>2</th>\n",
              "      <td>JOB1362684407689</td>\n",
              "      <td>VICE_PRESIDENT</td>\n",
              "      <td>DOCTORAL</td>\n",
              "      <td>PHYSICS</td>\n",
              "      <td>HEALTH</td>\n",
              "      <td>10</td>\n",
              "      <td>38</td>\n",
              "      <td>137</td>\n",
              "      <td>115.736</td>\n",
              "    </tr>\n",
              "    <tr>\n",
              "      <th>3</th>\n",
              "      <td>JOB1362684407690</td>\n",
              "      <td>MANAGER</td>\n",
              "      <td>DOCTORAL</td>\n",
              "      <td>CHEMISTRY</td>\n",
              "      <td>AUTO</td>\n",
              "      <td>8</td>\n",
              "      <td>17</td>\n",
              "      <td>142</td>\n",
              "      <td>109.435</td>\n",
              "    </tr>\n",
              "    <tr>\n",
              "      <th>4</th>\n",
              "      <td>JOB1362684407691</td>\n",
              "      <td>VICE_PRESIDENT</td>\n",
              "      <td>BACHELORS</td>\n",
              "      <td>PHYSICS</td>\n",
              "      <td>FINANCE</td>\n",
              "      <td>8</td>\n",
              "      <td>16</td>\n",
              "      <td>163</td>\n",
              "      <td>130.748</td>\n",
              "    </tr>\n",
              "  </tbody>\n",
              "</table>\n",
              "</div>"
            ],
            "text/plain": [
              "              jobId         jobType  ... salary Predicted salary\n",
              "0  JOB1362684407687             CFO  ...    130          115.736\n",
              "1  JOB1362684407688             CEO  ...    101          121.645\n",
              "2  JOB1362684407689  VICE_PRESIDENT  ...    137          115.736\n",
              "3  JOB1362684407690         MANAGER  ...    142          109.435\n",
              "4  JOB1362684407691  VICE_PRESIDENT  ...    163          130.748\n",
              "\n",
              "[5 rows x 9 columns]"
            ]
          },
          "metadata": {
            "tags": []
          },
          "execution_count": 140
        }
      ]
    },
    {
      "cell_type": "markdown",
      "metadata": {
        "id": "0jmomn_QTyMq",
        "colab_type": "text"
      },
      "source": [
        "Now that we have the predicted salary values which is just the average value for the industry, we will use these to find model efficacy."
      ]
    },
    {
      "cell_type": "code",
      "metadata": {
        "id": "4xMOYqBQRQlQ",
        "colab_type": "code",
        "colab": {
          "base_uri": "https://localhost:8080/",
          "height": 34
        },
        "outputId": "bcd915b9-3073-4419-c89b-cbaccec39ef2"
      },
      "source": [
        "actual_values = salaries_df['salary']\n",
        "\n",
        "predicted_values = salaries_df['Predicted salary']\n",
        "\n",
        "mse = mean_squared_error(actual_values, predicted_values)\n",
        "\n",
        "print(f\"MSE : {mse}\")"
      ],
      "execution_count": 141,
      "outputs": [
        {
          "output_type": "stream",
          "text": [
            "MSE : 1367.122950785255\n"
          ],
          "name": "stdout"
        }
      ]
    },
    {
      "cell_type": "markdown",
      "metadata": {
        "id": "_hHVvHgKWiqd",
        "colab_type": "text"
      },
      "source": [
        "we can use the above model as our base model and try to develop models which performs better than than our base model."
      ]
    },
    {
      "cell_type": "markdown",
      "metadata": {
        "colab_type": "text",
        "id": "imD8Jn_5W1r-"
      },
      "source": [
        "### ---- 6 Hypothesize solution ----"
      ]
    },
    {
      "cell_type": "markdown",
      "metadata": {
        "id": "xl5LfalGR1UO",
        "colab_type": "text"
      },
      "source": [
        "\n",
        "From the observed results of our baseline model, it is clear that we can definetly improve results.I plan to use develop following models:\n",
        "\n",
        "1. I would check the Multiple Linear Regression as I feel this is a reasonable choice for any predictive model when the features seems to be linear with the target.\n",
        "\n",
        "2. I will then try to use Random Forest as it is one of the popular and most commoly used algorithms.\n",
        "\n",
        "3. I would like to check how gradient boosting works on this data.\n",
        "\n",
        "I expect to bring down the MSE to less than 360. Which ever model gives me values closer to my desired values i will have to choose that model.\n",
        "\n"
      ]
    },
    {
      "cell_type": "markdown",
      "metadata": {
        "id": "sw3DeHRfR1UP",
        "colab_type": "text"
      },
      "source": [
        "## Part 3 - DEVELOP"
      ]
    },
    {
      "cell_type": "markdown",
      "metadata": {
        "id": "aWQ_JeUYR1US",
        "colab_type": "text"
      },
      "source": [
        "### ---- 7 Engineer features  ----"
      ]
    },
    {
      "cell_type": "code",
      "metadata": {
        "id": "zE1JBewrR1UU",
        "colab_type": "code",
        "colab": {
          "base_uri": "https://localhost:8080/",
          "height": 224
        },
        "outputId": "d22d41c4-5617-497e-ffe7-3f327cef6a49"
      },
      "source": [
        "#making sure that data is ready for modeling\n",
        "\n",
        "train_salaries_df.head()\n",
        "\n"
      ],
      "execution_count": 142,
      "outputs": [
        {
          "output_type": "execute_result",
          "data": {
            "text/html": [
              "<div>\n",
              "<style scoped>\n",
              "    .dataframe tbody tr th:only-of-type {\n",
              "        vertical-align: middle;\n",
              "    }\n",
              "\n",
              "    .dataframe tbody tr th {\n",
              "        vertical-align: top;\n",
              "    }\n",
              "\n",
              "    .dataframe thead th {\n",
              "        text-align: right;\n",
              "    }\n",
              "</style>\n",
              "<table border=\"1\" class=\"dataframe\">\n",
              "  <thead>\n",
              "    <tr style=\"text-align: right;\">\n",
              "      <th></th>\n",
              "      <th>jobId</th>\n",
              "      <th>yearsExperience</th>\n",
              "      <th>milesFromMetropolis</th>\n",
              "      <th>salary</th>\n",
              "      <th>jobType_CEO</th>\n",
              "      <th>jobType_CFO</th>\n",
              "      <th>jobType_CTO</th>\n",
              "      <th>jobType_JANITOR</th>\n",
              "      <th>jobType_JUNIOR</th>\n",
              "      <th>jobType_MANAGER</th>\n",
              "      <th>jobType_SENIOR</th>\n",
              "      <th>jobType_VICE_PRESIDENT</th>\n",
              "      <th>degree_BACHELORS</th>\n",
              "      <th>degree_DOCTORAL</th>\n",
              "      <th>degree_HIGH_SCHOOL</th>\n",
              "      <th>degree_MASTERS</th>\n",
              "      <th>degree_NONE</th>\n",
              "      <th>major_BIOLOGY</th>\n",
              "      <th>major_BUSINESS</th>\n",
              "      <th>major_CHEMISTRY</th>\n",
              "      <th>major_COMPSCI</th>\n",
              "      <th>major_ENGINEERING</th>\n",
              "      <th>major_LITERATURE</th>\n",
              "      <th>major_MATH</th>\n",
              "      <th>major_NONE</th>\n",
              "      <th>major_PHYSICS</th>\n",
              "      <th>industry_AUTO</th>\n",
              "      <th>industry_EDUCATION</th>\n",
              "      <th>industry_FINANCE</th>\n",
              "      <th>industry_HEALTH</th>\n",
              "      <th>industry_OIL</th>\n",
              "      <th>industry_SERVICE</th>\n",
              "      <th>industry_WEB</th>\n",
              "    </tr>\n",
              "  </thead>\n",
              "  <tbody>\n",
              "    <tr>\n",
              "      <th>0</th>\n",
              "      <td>JOB1362684407687</td>\n",
              "      <td>10</td>\n",
              "      <td>83</td>\n",
              "      <td>130</td>\n",
              "      <td>0</td>\n",
              "      <td>1</td>\n",
              "      <td>0</td>\n",
              "      <td>0</td>\n",
              "      <td>0</td>\n",
              "      <td>0</td>\n",
              "      <td>0</td>\n",
              "      <td>0</td>\n",
              "      <td>0</td>\n",
              "      <td>0</td>\n",
              "      <td>0</td>\n",
              "      <td>1</td>\n",
              "      <td>0</td>\n",
              "      <td>0</td>\n",
              "      <td>0</td>\n",
              "      <td>0</td>\n",
              "      <td>0</td>\n",
              "      <td>0</td>\n",
              "      <td>0</td>\n",
              "      <td>1</td>\n",
              "      <td>0</td>\n",
              "      <td>0</td>\n",
              "      <td>0</td>\n",
              "      <td>0</td>\n",
              "      <td>0</td>\n",
              "      <td>1</td>\n",
              "      <td>0</td>\n",
              "      <td>0</td>\n",
              "      <td>0</td>\n",
              "    </tr>\n",
              "    <tr>\n",
              "      <th>1</th>\n",
              "      <td>JOB1362684407688</td>\n",
              "      <td>3</td>\n",
              "      <td>73</td>\n",
              "      <td>101</td>\n",
              "      <td>1</td>\n",
              "      <td>0</td>\n",
              "      <td>0</td>\n",
              "      <td>0</td>\n",
              "      <td>0</td>\n",
              "      <td>0</td>\n",
              "      <td>0</td>\n",
              "      <td>0</td>\n",
              "      <td>0</td>\n",
              "      <td>0</td>\n",
              "      <td>1</td>\n",
              "      <td>0</td>\n",
              "      <td>0</td>\n",
              "      <td>0</td>\n",
              "      <td>0</td>\n",
              "      <td>0</td>\n",
              "      <td>0</td>\n",
              "      <td>0</td>\n",
              "      <td>0</td>\n",
              "      <td>0</td>\n",
              "      <td>1</td>\n",
              "      <td>0</td>\n",
              "      <td>0</td>\n",
              "      <td>0</td>\n",
              "      <td>0</td>\n",
              "      <td>0</td>\n",
              "      <td>0</td>\n",
              "      <td>0</td>\n",
              "      <td>1</td>\n",
              "    </tr>\n",
              "    <tr>\n",
              "      <th>2</th>\n",
              "      <td>JOB1362684407689</td>\n",
              "      <td>10</td>\n",
              "      <td>38</td>\n",
              "      <td>137</td>\n",
              "      <td>0</td>\n",
              "      <td>0</td>\n",
              "      <td>0</td>\n",
              "      <td>0</td>\n",
              "      <td>0</td>\n",
              "      <td>0</td>\n",
              "      <td>0</td>\n",
              "      <td>1</td>\n",
              "      <td>0</td>\n",
              "      <td>1</td>\n",
              "      <td>0</td>\n",
              "      <td>0</td>\n",
              "      <td>0</td>\n",
              "      <td>0</td>\n",
              "      <td>0</td>\n",
              "      <td>0</td>\n",
              "      <td>0</td>\n",
              "      <td>0</td>\n",
              "      <td>0</td>\n",
              "      <td>0</td>\n",
              "      <td>0</td>\n",
              "      <td>1</td>\n",
              "      <td>0</td>\n",
              "      <td>0</td>\n",
              "      <td>0</td>\n",
              "      <td>1</td>\n",
              "      <td>0</td>\n",
              "      <td>0</td>\n",
              "      <td>0</td>\n",
              "    </tr>\n",
              "    <tr>\n",
              "      <th>3</th>\n",
              "      <td>JOB1362684407690</td>\n",
              "      <td>8</td>\n",
              "      <td>17</td>\n",
              "      <td>142</td>\n",
              "      <td>0</td>\n",
              "      <td>0</td>\n",
              "      <td>0</td>\n",
              "      <td>0</td>\n",
              "      <td>0</td>\n",
              "      <td>1</td>\n",
              "      <td>0</td>\n",
              "      <td>0</td>\n",
              "      <td>0</td>\n",
              "      <td>1</td>\n",
              "      <td>0</td>\n",
              "      <td>0</td>\n",
              "      <td>0</td>\n",
              "      <td>0</td>\n",
              "      <td>0</td>\n",
              "      <td>1</td>\n",
              "      <td>0</td>\n",
              "      <td>0</td>\n",
              "      <td>0</td>\n",
              "      <td>0</td>\n",
              "      <td>0</td>\n",
              "      <td>0</td>\n",
              "      <td>1</td>\n",
              "      <td>0</td>\n",
              "      <td>0</td>\n",
              "      <td>0</td>\n",
              "      <td>0</td>\n",
              "      <td>0</td>\n",
              "      <td>0</td>\n",
              "    </tr>\n",
              "    <tr>\n",
              "      <th>4</th>\n",
              "      <td>JOB1362684407691</td>\n",
              "      <td>8</td>\n",
              "      <td>16</td>\n",
              "      <td>163</td>\n",
              "      <td>0</td>\n",
              "      <td>0</td>\n",
              "      <td>0</td>\n",
              "      <td>0</td>\n",
              "      <td>0</td>\n",
              "      <td>0</td>\n",
              "      <td>0</td>\n",
              "      <td>1</td>\n",
              "      <td>1</td>\n",
              "      <td>0</td>\n",
              "      <td>0</td>\n",
              "      <td>0</td>\n",
              "      <td>0</td>\n",
              "      <td>0</td>\n",
              "      <td>0</td>\n",
              "      <td>0</td>\n",
              "      <td>0</td>\n",
              "      <td>0</td>\n",
              "      <td>0</td>\n",
              "      <td>0</td>\n",
              "      <td>0</td>\n",
              "      <td>1</td>\n",
              "      <td>0</td>\n",
              "      <td>0</td>\n",
              "      <td>1</td>\n",
              "      <td>0</td>\n",
              "      <td>0</td>\n",
              "      <td>0</td>\n",
              "      <td>0</td>\n",
              "    </tr>\n",
              "  </tbody>\n",
              "</table>\n",
              "</div>"
            ],
            "text/plain": [
              "              jobId  yearsExperience  ...  industry_SERVICE  industry_WEB\n",
              "0  JOB1362684407687               10  ...                 0             0\n",
              "1  JOB1362684407688                3  ...                 0             1\n",
              "2  JOB1362684407689               10  ...                 0             0\n",
              "3  JOB1362684407690                8  ...                 0             0\n",
              "4  JOB1362684407691                8  ...                 0             0\n",
              "\n",
              "[5 rows x 33 columns]"
            ]
          },
          "metadata": {
            "tags": []
          },
          "execution_count": 142
        }
      ]
    },
    {
      "cell_type": "code",
      "metadata": {
        "id": "a-ykjXTzZIWv",
        "colab_type": "code",
        "colab": {
          "base_uri": "https://localhost:8080/",
          "height": 224
        },
        "outputId": "e0e973e9-2073-4492-9aca-b24e302da715"
      },
      "source": [
        "test_salaries_df.head()"
      ],
      "execution_count": 89,
      "outputs": [
        {
          "output_type": "execute_result",
          "data": {
            "text/html": [
              "<div>\n",
              "<style scoped>\n",
              "    .dataframe tbody tr th:only-of-type {\n",
              "        vertical-align: middle;\n",
              "    }\n",
              "\n",
              "    .dataframe tbody tr th {\n",
              "        vertical-align: top;\n",
              "    }\n",
              "\n",
              "    .dataframe thead th {\n",
              "        text-align: right;\n",
              "    }\n",
              "</style>\n",
              "<table border=\"1\" class=\"dataframe\">\n",
              "  <thead>\n",
              "    <tr style=\"text-align: right;\">\n",
              "      <th></th>\n",
              "      <th>jobId</th>\n",
              "      <th>yearsExperience</th>\n",
              "      <th>milesFromMetropolis</th>\n",
              "      <th>jobType_CEO</th>\n",
              "      <th>jobType_CFO</th>\n",
              "      <th>jobType_CTO</th>\n",
              "      <th>jobType_JANITOR</th>\n",
              "      <th>jobType_JUNIOR</th>\n",
              "      <th>jobType_MANAGER</th>\n",
              "      <th>jobType_SENIOR</th>\n",
              "      <th>jobType_VICE_PRESIDENT</th>\n",
              "      <th>degree_BACHELORS</th>\n",
              "      <th>degree_DOCTORAL</th>\n",
              "      <th>degree_HIGH_SCHOOL</th>\n",
              "      <th>degree_MASTERS</th>\n",
              "      <th>degree_NONE</th>\n",
              "      <th>major_BIOLOGY</th>\n",
              "      <th>major_BUSINESS</th>\n",
              "      <th>major_CHEMISTRY</th>\n",
              "      <th>major_COMPSCI</th>\n",
              "      <th>major_ENGINEERING</th>\n",
              "      <th>major_LITERATURE</th>\n",
              "      <th>major_MATH</th>\n",
              "      <th>major_NONE</th>\n",
              "      <th>major_PHYSICS</th>\n",
              "      <th>industry_AUTO</th>\n",
              "      <th>industry_EDUCATION</th>\n",
              "      <th>industry_FINANCE</th>\n",
              "      <th>industry_HEALTH</th>\n",
              "      <th>industry_OIL</th>\n",
              "      <th>industry_SERVICE</th>\n",
              "      <th>industry_WEB</th>\n",
              "    </tr>\n",
              "  </thead>\n",
              "  <tbody>\n",
              "    <tr>\n",
              "      <th>0</th>\n",
              "      <td>JOB1362685407687</td>\n",
              "      <td>22</td>\n",
              "      <td>73</td>\n",
              "      <td>0</td>\n",
              "      <td>0</td>\n",
              "      <td>0</td>\n",
              "      <td>0</td>\n",
              "      <td>0</td>\n",
              "      <td>1</td>\n",
              "      <td>0</td>\n",
              "      <td>0</td>\n",
              "      <td>0</td>\n",
              "      <td>0</td>\n",
              "      <td>1</td>\n",
              "      <td>0</td>\n",
              "      <td>0</td>\n",
              "      <td>0</td>\n",
              "      <td>0</td>\n",
              "      <td>0</td>\n",
              "      <td>0</td>\n",
              "      <td>0</td>\n",
              "      <td>0</td>\n",
              "      <td>0</td>\n",
              "      <td>1</td>\n",
              "      <td>0</td>\n",
              "      <td>0</td>\n",
              "      <td>0</td>\n",
              "      <td>0</td>\n",
              "      <td>1</td>\n",
              "      <td>0</td>\n",
              "      <td>0</td>\n",
              "      <td>0</td>\n",
              "    </tr>\n",
              "    <tr>\n",
              "      <th>1</th>\n",
              "      <td>JOB1362685407688</td>\n",
              "      <td>20</td>\n",
              "      <td>47</td>\n",
              "      <td>0</td>\n",
              "      <td>0</td>\n",
              "      <td>0</td>\n",
              "      <td>0</td>\n",
              "      <td>1</td>\n",
              "      <td>0</td>\n",
              "      <td>0</td>\n",
              "      <td>0</td>\n",
              "      <td>0</td>\n",
              "      <td>0</td>\n",
              "      <td>0</td>\n",
              "      <td>0</td>\n",
              "      <td>1</td>\n",
              "      <td>0</td>\n",
              "      <td>0</td>\n",
              "      <td>0</td>\n",
              "      <td>0</td>\n",
              "      <td>0</td>\n",
              "      <td>0</td>\n",
              "      <td>0</td>\n",
              "      <td>1</td>\n",
              "      <td>0</td>\n",
              "      <td>1</td>\n",
              "      <td>0</td>\n",
              "      <td>0</td>\n",
              "      <td>0</td>\n",
              "      <td>0</td>\n",
              "      <td>0</td>\n",
              "      <td>0</td>\n",
              "    </tr>\n",
              "    <tr>\n",
              "      <th>2</th>\n",
              "      <td>JOB1362685407689</td>\n",
              "      <td>17</td>\n",
              "      <td>9</td>\n",
              "      <td>0</td>\n",
              "      <td>0</td>\n",
              "      <td>1</td>\n",
              "      <td>0</td>\n",
              "      <td>0</td>\n",
              "      <td>0</td>\n",
              "      <td>0</td>\n",
              "      <td>0</td>\n",
              "      <td>0</td>\n",
              "      <td>0</td>\n",
              "      <td>0</td>\n",
              "      <td>1</td>\n",
              "      <td>0</td>\n",
              "      <td>1</td>\n",
              "      <td>0</td>\n",
              "      <td>0</td>\n",
              "      <td>0</td>\n",
              "      <td>0</td>\n",
              "      <td>0</td>\n",
              "      <td>0</td>\n",
              "      <td>0</td>\n",
              "      <td>0</td>\n",
              "      <td>0</td>\n",
              "      <td>0</td>\n",
              "      <td>0</td>\n",
              "      <td>1</td>\n",
              "      <td>0</td>\n",
              "      <td>0</td>\n",
              "      <td>0</td>\n",
              "    </tr>\n",
              "    <tr>\n",
              "      <th>3</th>\n",
              "      <td>JOB1362685407690</td>\n",
              "      <td>14</td>\n",
              "      <td>96</td>\n",
              "      <td>0</td>\n",
              "      <td>0</td>\n",
              "      <td>0</td>\n",
              "      <td>0</td>\n",
              "      <td>0</td>\n",
              "      <td>1</td>\n",
              "      <td>0</td>\n",
              "      <td>0</td>\n",
              "      <td>0</td>\n",
              "      <td>0</td>\n",
              "      <td>1</td>\n",
              "      <td>0</td>\n",
              "      <td>0</td>\n",
              "      <td>0</td>\n",
              "      <td>0</td>\n",
              "      <td>0</td>\n",
              "      <td>0</td>\n",
              "      <td>0</td>\n",
              "      <td>0</td>\n",
              "      <td>0</td>\n",
              "      <td>1</td>\n",
              "      <td>0</td>\n",
              "      <td>0</td>\n",
              "      <td>0</td>\n",
              "      <td>0</td>\n",
              "      <td>0</td>\n",
              "      <td>1</td>\n",
              "      <td>0</td>\n",
              "      <td>0</td>\n",
              "    </tr>\n",
              "    <tr>\n",
              "      <th>4</th>\n",
              "      <td>JOB1362685407691</td>\n",
              "      <td>10</td>\n",
              "      <td>44</td>\n",
              "      <td>0</td>\n",
              "      <td>0</td>\n",
              "      <td>0</td>\n",
              "      <td>0</td>\n",
              "      <td>1</td>\n",
              "      <td>0</td>\n",
              "      <td>0</td>\n",
              "      <td>0</td>\n",
              "      <td>0</td>\n",
              "      <td>1</td>\n",
              "      <td>0</td>\n",
              "      <td>0</td>\n",
              "      <td>0</td>\n",
              "      <td>1</td>\n",
              "      <td>0</td>\n",
              "      <td>0</td>\n",
              "      <td>0</td>\n",
              "      <td>0</td>\n",
              "      <td>0</td>\n",
              "      <td>0</td>\n",
              "      <td>0</td>\n",
              "      <td>0</td>\n",
              "      <td>0</td>\n",
              "      <td>0</td>\n",
              "      <td>0</td>\n",
              "      <td>0</td>\n",
              "      <td>1</td>\n",
              "      <td>0</td>\n",
              "      <td>0</td>\n",
              "    </tr>\n",
              "  </tbody>\n",
              "</table>\n",
              "</div>"
            ],
            "text/plain": [
              "              jobId  yearsExperience  ...  industry_SERVICE  industry_WEB\n",
              "0  JOB1362685407687               22  ...                 0             0\n",
              "1  JOB1362685407688               20  ...                 0             0\n",
              "2  JOB1362685407689               17  ...                 0             0\n",
              "3  JOB1362685407690               14  ...                 0             0\n",
              "4  JOB1362685407691               10  ...                 0             0\n",
              "\n",
              "[5 rows x 32 columns]"
            ]
          },
          "metadata": {
            "tags": []
          },
          "execution_count": 89
        }
      ]
    },
    {
      "cell_type": "code",
      "metadata": {
        "id": "xO_DnCPZqoFe",
        "colab_type": "code",
        "colab": {
          "base_uri": "https://localhost:8080/",
          "height": 34
        },
        "outputId": "540fe834-124f-4918-f1e9-30e441438584"
      },
      "source": [
        "test_salaries_df.shape"
      ],
      "execution_count": 144,
      "outputs": [
        {
          "output_type": "execute_result",
          "data": {
            "text/plain": [
              "(1000000, 32)"
            ]
          },
          "metadata": {
            "tags": []
          },
          "execution_count": 144
        }
      ]
    },
    {
      "cell_type": "code",
      "metadata": {
        "id": "-lzrmEB1ZIqe",
        "colab_type": "code",
        "colab": {}
      },
      "source": [
        "#defing the funcion to calculate mean squared error for 5-fold cross validation\n",
        "\n",
        "def cal_mse(model,feature_df,target_df):\n",
        "  neg_mse = cross_val_score(model, feature_df, target_df, cv=5, scoring='neg_mean_squared_error')\n",
        "  mean_mse = -1.0*np.mean(neg_mse)\n",
        "  print(f\"MSE [{model}]: {mean_mse}\")\n"
      ],
      "execution_count": 0,
      "outputs": []
    },
    {
      "cell_type": "code",
      "metadata": {
        "id": "2IaJVnFpZIiQ",
        "colab_type": "code",
        "colab": {}
      },
      "source": [
        "# defining the Traing features and target\n",
        "\n",
        "target = train_salaries_df['salary']\n",
        "\n",
        "train_salaries_df.drop(['salary','jobId'],axis=1,inplace = True)"
      ],
      "execution_count": 0,
      "outputs": []
    },
    {
      "cell_type": "code",
      "metadata": {
        "id": "8_MTRZvri6YA",
        "colab_type": "code",
        "colab": {
          "base_uri": "https://localhost:8080/",
          "height": 224
        },
        "outputId": "c2e017f8-946b-4df3-baba-31e094714b81"
      },
      "source": [
        "train_salaries_df.head()"
      ],
      "execution_count": 149,
      "outputs": [
        {
          "output_type": "execute_result",
          "data": {
            "text/html": [
              "<div>\n",
              "<style scoped>\n",
              "    .dataframe tbody tr th:only-of-type {\n",
              "        vertical-align: middle;\n",
              "    }\n",
              "\n",
              "    .dataframe tbody tr th {\n",
              "        vertical-align: top;\n",
              "    }\n",
              "\n",
              "    .dataframe thead th {\n",
              "        text-align: right;\n",
              "    }\n",
              "</style>\n",
              "<table border=\"1\" class=\"dataframe\">\n",
              "  <thead>\n",
              "    <tr style=\"text-align: right;\">\n",
              "      <th></th>\n",
              "      <th>yearsExperience</th>\n",
              "      <th>milesFromMetropolis</th>\n",
              "      <th>jobType_CEO</th>\n",
              "      <th>jobType_CFO</th>\n",
              "      <th>jobType_CTO</th>\n",
              "      <th>jobType_JANITOR</th>\n",
              "      <th>jobType_JUNIOR</th>\n",
              "      <th>jobType_MANAGER</th>\n",
              "      <th>jobType_SENIOR</th>\n",
              "      <th>jobType_VICE_PRESIDENT</th>\n",
              "      <th>degree_BACHELORS</th>\n",
              "      <th>degree_DOCTORAL</th>\n",
              "      <th>degree_HIGH_SCHOOL</th>\n",
              "      <th>degree_MASTERS</th>\n",
              "      <th>degree_NONE</th>\n",
              "      <th>major_BIOLOGY</th>\n",
              "      <th>major_BUSINESS</th>\n",
              "      <th>major_CHEMISTRY</th>\n",
              "      <th>major_COMPSCI</th>\n",
              "      <th>major_ENGINEERING</th>\n",
              "      <th>major_LITERATURE</th>\n",
              "      <th>major_MATH</th>\n",
              "      <th>major_NONE</th>\n",
              "      <th>major_PHYSICS</th>\n",
              "      <th>industry_AUTO</th>\n",
              "      <th>industry_EDUCATION</th>\n",
              "      <th>industry_FINANCE</th>\n",
              "      <th>industry_HEALTH</th>\n",
              "      <th>industry_OIL</th>\n",
              "      <th>industry_SERVICE</th>\n",
              "      <th>industry_WEB</th>\n",
              "    </tr>\n",
              "  </thead>\n",
              "  <tbody>\n",
              "    <tr>\n",
              "      <th>0</th>\n",
              "      <td>10</td>\n",
              "      <td>83</td>\n",
              "      <td>0</td>\n",
              "      <td>1</td>\n",
              "      <td>0</td>\n",
              "      <td>0</td>\n",
              "      <td>0</td>\n",
              "      <td>0</td>\n",
              "      <td>0</td>\n",
              "      <td>0</td>\n",
              "      <td>0</td>\n",
              "      <td>0</td>\n",
              "      <td>0</td>\n",
              "      <td>1</td>\n",
              "      <td>0</td>\n",
              "      <td>0</td>\n",
              "      <td>0</td>\n",
              "      <td>0</td>\n",
              "      <td>0</td>\n",
              "      <td>0</td>\n",
              "      <td>0</td>\n",
              "      <td>1</td>\n",
              "      <td>0</td>\n",
              "      <td>0</td>\n",
              "      <td>0</td>\n",
              "      <td>0</td>\n",
              "      <td>0</td>\n",
              "      <td>1</td>\n",
              "      <td>0</td>\n",
              "      <td>0</td>\n",
              "      <td>0</td>\n",
              "    </tr>\n",
              "    <tr>\n",
              "      <th>1</th>\n",
              "      <td>3</td>\n",
              "      <td>73</td>\n",
              "      <td>1</td>\n",
              "      <td>0</td>\n",
              "      <td>0</td>\n",
              "      <td>0</td>\n",
              "      <td>0</td>\n",
              "      <td>0</td>\n",
              "      <td>0</td>\n",
              "      <td>0</td>\n",
              "      <td>0</td>\n",
              "      <td>0</td>\n",
              "      <td>1</td>\n",
              "      <td>0</td>\n",
              "      <td>0</td>\n",
              "      <td>0</td>\n",
              "      <td>0</td>\n",
              "      <td>0</td>\n",
              "      <td>0</td>\n",
              "      <td>0</td>\n",
              "      <td>0</td>\n",
              "      <td>0</td>\n",
              "      <td>1</td>\n",
              "      <td>0</td>\n",
              "      <td>0</td>\n",
              "      <td>0</td>\n",
              "      <td>0</td>\n",
              "      <td>0</td>\n",
              "      <td>0</td>\n",
              "      <td>0</td>\n",
              "      <td>1</td>\n",
              "    </tr>\n",
              "    <tr>\n",
              "      <th>2</th>\n",
              "      <td>10</td>\n",
              "      <td>38</td>\n",
              "      <td>0</td>\n",
              "      <td>0</td>\n",
              "      <td>0</td>\n",
              "      <td>0</td>\n",
              "      <td>0</td>\n",
              "      <td>0</td>\n",
              "      <td>0</td>\n",
              "      <td>1</td>\n",
              "      <td>0</td>\n",
              "      <td>1</td>\n",
              "      <td>0</td>\n",
              "      <td>0</td>\n",
              "      <td>0</td>\n",
              "      <td>0</td>\n",
              "      <td>0</td>\n",
              "      <td>0</td>\n",
              "      <td>0</td>\n",
              "      <td>0</td>\n",
              "      <td>0</td>\n",
              "      <td>0</td>\n",
              "      <td>0</td>\n",
              "      <td>1</td>\n",
              "      <td>0</td>\n",
              "      <td>0</td>\n",
              "      <td>0</td>\n",
              "      <td>1</td>\n",
              "      <td>0</td>\n",
              "      <td>0</td>\n",
              "      <td>0</td>\n",
              "    </tr>\n",
              "    <tr>\n",
              "      <th>3</th>\n",
              "      <td>8</td>\n",
              "      <td>17</td>\n",
              "      <td>0</td>\n",
              "      <td>0</td>\n",
              "      <td>0</td>\n",
              "      <td>0</td>\n",
              "      <td>0</td>\n",
              "      <td>1</td>\n",
              "      <td>0</td>\n",
              "      <td>0</td>\n",
              "      <td>0</td>\n",
              "      <td>1</td>\n",
              "      <td>0</td>\n",
              "      <td>0</td>\n",
              "      <td>0</td>\n",
              "      <td>0</td>\n",
              "      <td>0</td>\n",
              "      <td>1</td>\n",
              "      <td>0</td>\n",
              "      <td>0</td>\n",
              "      <td>0</td>\n",
              "      <td>0</td>\n",
              "      <td>0</td>\n",
              "      <td>0</td>\n",
              "      <td>1</td>\n",
              "      <td>0</td>\n",
              "      <td>0</td>\n",
              "      <td>0</td>\n",
              "      <td>0</td>\n",
              "      <td>0</td>\n",
              "      <td>0</td>\n",
              "    </tr>\n",
              "    <tr>\n",
              "      <th>4</th>\n",
              "      <td>8</td>\n",
              "      <td>16</td>\n",
              "      <td>0</td>\n",
              "      <td>0</td>\n",
              "      <td>0</td>\n",
              "      <td>0</td>\n",
              "      <td>0</td>\n",
              "      <td>0</td>\n",
              "      <td>0</td>\n",
              "      <td>1</td>\n",
              "      <td>1</td>\n",
              "      <td>0</td>\n",
              "      <td>0</td>\n",
              "      <td>0</td>\n",
              "      <td>0</td>\n",
              "      <td>0</td>\n",
              "      <td>0</td>\n",
              "      <td>0</td>\n",
              "      <td>0</td>\n",
              "      <td>0</td>\n",
              "      <td>0</td>\n",
              "      <td>0</td>\n",
              "      <td>0</td>\n",
              "      <td>1</td>\n",
              "      <td>0</td>\n",
              "      <td>0</td>\n",
              "      <td>1</td>\n",
              "      <td>0</td>\n",
              "      <td>0</td>\n",
              "      <td>0</td>\n",
              "      <td>0</td>\n",
              "    </tr>\n",
              "  </tbody>\n",
              "</table>\n",
              "</div>"
            ],
            "text/plain": [
              "   yearsExperience  milesFromMetropolis  ...  industry_SERVICE  industry_WEB\n",
              "0               10                   83  ...                 0             0\n",
              "1                3                   73  ...                 0             1\n",
              "2               10                   38  ...                 0             0\n",
              "3                8                   17  ...                 0             0\n",
              "4                8                   16  ...                 0             0\n",
              "\n",
              "[5 rows x 31 columns]"
            ]
          },
          "metadata": {
            "tags": []
          },
          "execution_count": 149
        }
      ]
    },
    {
      "cell_type": "markdown",
      "metadata": {
        "id": "3TqebJ_stF53",
        "colab_type": "text"
      },
      "source": [
        "we already have a test data to predict values on!!, but we need to make sure our model is fitting well on the current data. For that checking, I have further divided the data into 80:20, where 20% of the data is used for validation. If we are satisfied with the performance of our model on this validataion set we can try predicting values on actual test set."
      ]
    },
    {
      "cell_type": "code",
      "metadata": {
        "id": "OTL3UNIcgE84",
        "colab_type": "code",
        "colab": {}
      },
      "source": [
        "#split the data set into train and validation subsets\n",
        "X_train, X_val, y_train, y_val = train_test_split(train_salaries_df, target, test_size=0.20,random_state=42)"
      ],
      "execution_count": 0,
      "outputs": []
    },
    {
      "cell_type": "markdown",
      "metadata": {
        "id": "EFkz-MvjR1UZ",
        "colab_type": "text"
      },
      "source": [
        "### ---- 8 Create models ----"
      ]
    },
    {
      "cell_type": "markdown",
      "metadata": {
        "id": "nKhJ0OCHnNrr",
        "colab_type": "text"
      },
      "source": [
        "### 8.1 Multiple Linear Regression"
      ]
    },
    {
      "cell_type": "code",
      "metadata": {
        "id": "w-6Foyh9nUvd",
        "colab_type": "code",
        "colab": {}
      },
      "source": [
        "#create linear regression object\n",
        "mlr = LinearRegression()\n",
        "\n",
        "#fit the training data to the model\n",
        "\n",
        "mlr.fit(X_train,y_train)\n",
        "\n",
        "#Getting the predicted values\n",
        "\n",
        "y_pred = mlr.predict(X_val)"
      ],
      "execution_count": 0,
      "outputs": []
    },
    {
      "cell_type": "code",
      "metadata": {
        "id": "OK4w-vywnVB5",
        "colab_type": "code",
        "colab": {
          "base_uri": "https://localhost:8080/",
          "height": 405
        },
        "outputId": "55404b81-499f-4ec1-d8fe-446e428ebe72"
      },
      "source": [
        "#plotting these results against actul values\n",
        "\n",
        "plt.figure(figsize=(14,6))\n",
        "ax1 = sns.distplot(y_val, hist=False, color=\"g\", label=\"Actual Values\")\n",
        "sns.distplot(y_pred, hist=False, color=\"r\", label=\"Predicted Values\" , ax=ax1)"
      ],
      "execution_count": 152,
      "outputs": [
        {
          "output_type": "execute_result",
          "data": {
            "text/plain": [
              "<matplotlib.axes._subplots.AxesSubplot at 0x7f4c3e069ef0>"
            ]
          },
          "metadata": {
            "tags": []
          },
          "execution_count": 152
        },
        {
          "output_type": "display_data",
          "data": {
            "image/png": "[encoded data removed]",
            "text/plain": [
              "<Figure size 1008x432 with 1 Axes>"
            ]
          },
          "metadata": {
            "tags": []
          }
        }
      ]
    },
    {
      "cell_type": "code",
      "metadata": {
        "id": "eG78aic5nUp3",
        "colab_type": "code",
        "colab": {
          "base_uri": "https://localhost:8080/",
          "height": 34
        },
        "outputId": "e5d4418e-0846-47dd-fb4c-103d46732eec"
      },
      "source": [
        "#calclating MSE for Multiple Linear regression\n",
        "mean_squared_error(y_val, y_pred)\n"
      ],
      "execution_count": 158,
      "outputs": [
        {
          "output_type": "execute_result",
          "data": {
            "text/plain": [
              "383.2826272739589"
            ]
          },
          "metadata": {
            "tags": []
          },
          "execution_count": 158
        }
      ]
    },
    {
      "cell_type": "markdown",
      "metadata": {
        "id": "PK4uFjnZrKca",
        "colab_type": "text"
      },
      "source": [
        "The value is MSE is pretty good as we have just done simple Multiple Linear Regression, lets check on other two models. But we have calculted the mean square error only on our validation data, the model performs well on our validation data."
      ]
    },
    {
      "cell_type": "markdown",
      "metadata": {
        "id": "-aVK_7DerVZL",
        "colab_type": "text"
      },
      "source": [
        "#### 8.2 Random Forest"
      ]
    },
    {
      "cell_type": "code",
      "metadata": {
        "id": "AOtvk-l5ryx4",
        "colab_type": "code",
        "colab": {}
      },
      "source": [
        "\n",
        "#creating a random forest object and fitting it our model\n",
        "rf = RandomForestRegressor(n_estimators=150,max_depth=25, min_samples_split = 60,max_features=30)\n",
        "\n",
        "#fitting the model\n",
        "rf.fit(X_train,y_train)\n",
        "\n",
        "#getting predicted values\n",
        "rf_pred = rf.predict(X_val)\n",
        "\n"
      ],
      "execution_count": 0,
      "outputs": []
    },
    {
      "cell_type": "code",
      "metadata": {
        "id": "9Gu9j0-YuKZt",
        "colab_type": "code",
        "colab": {
          "base_uri": "https://localhost:8080/",
          "height": 405
        },
        "outputId": "dd6046dc-c2b7-413d-936d-514eb14c5cb1"
      },
      "source": [
        "#plotting these results against actual values\n",
        "\n",
        "plt.figure(figsize=(14,6))\n",
        "ax1 = sns.distplot(y_val, hist=False, color=\"g\", label=\"Actual Values\")\n",
        "sns.distplot(rf_pred, hist=False, color=\"r\", label=\"Predicted Values\" , ax=ax1)"
      ],
      "execution_count": 161,
      "outputs": [
        {
          "output_type": "execute_result",
          "data": {
            "text/plain": [
              "<matplotlib.axes._subplots.AxesSubplot at 0x7f4c34f480f0>"
            ]
          },
          "metadata": {
            "tags": []
          },
          "execution_count": 161
        },
        {
          "output_type": "display_data",
          "data": {
            "image/png": "[encoded data removed]",
            "text/plain": [
              "<Figure size 1008x432 with 1 Axes>"
            ]
          },
          "metadata": {
            "tags": []
          }
        }
      ]
    },
    {
      "cell_type": "code",
      "metadata": {
        "id": "K8sybh5LwpR1",
        "colab_type": "code",
        "colab": {
          "base_uri": "https://localhost:8080/",
          "height": 34
        },
        "outputId": "1775694d-e5f6-4c03-aa1b-63ff725971d4"
      },
      "source": [
        "#calclating MSE for Random Forest\n",
        "mean_squared_error(y_val, rf_pred)\n"
      ],
      "execution_count": 163,
      "outputs": [
        {
          "output_type": "execute_result",
          "data": {
            "text/plain": [
              "364.8570379039025"
            ]
          },
          "metadata": {
            "tags": []
          },
          "execution_count": 163
        }
      ]
    },
    {
      "cell_type": "markdown",
      "metadata": {
        "id": "7QyL7h4twonI",
        "colab_type": "text"
      },
      "source": [
        "There is  significant reduction in MSE value,we can see that Random forest is fitting the model well"
      ]
    },
    {
      "cell_type": "code",
      "metadata": {
        "id": "vQ9h6mRVuUWI",
        "colab_type": "code",
        "colab": {}
      },
      "source": [
        ""
      ],
      "execution_count": 0,
      "outputs": []
    },
    {
      "cell_type": "markdown",
      "metadata": {
        "id": "oEE_A56WuTQD",
        "colab_type": "text"
      },
      "source": [
        "#### 8.3 Gradient Boosting Regression\n",
        "\n"
      ]
    },
    {
      "cell_type": "code",
      "metadata": {
        "id": "3-gFNg6ZuSbU",
        "colab_type": "code",
        "colab": {}
      },
      "source": [
        "#creating Gradient Boosting Regression Object\n",
        "gbm = GradientBoostingRegressor(n_estimators=130, max_depth=10, loss='ls')\n",
        "\n",
        "#fitting the model\n",
        "gbm.fit(X_train,y_train)\n",
        "\n",
        "#getting predicted values\n",
        "gbm_pred = rf.predict(X_val)\n"
      ],
      "execution_count": 0,
      "outputs": []
    },
    {
      "cell_type": "code",
      "metadata": {
        "id": "klrmrl7Lxq2i",
        "colab_type": "code",
        "colab": {
          "base_uri": "https://localhost:8080/",
          "height": 405
        },
        "outputId": "21f5040c-5cce-4edb-b6f2-22fdb4aebb13"
      },
      "source": [
        "#plotting these results against actual values\n",
        "\n",
        "plt.figure(figsize=(14,6))\n",
        "ax1 = sns.distplot(y_val, hist=False, color=\"g\", label=\"Actual Values\")\n",
        "sns.distplot(gbm_pred, hist=False, color=\"r\", label=\"Predicted Values\" , ax=ax1)"
      ],
      "execution_count": 164,
      "outputs": [
        {
          "output_type": "execute_result",
          "data": {
            "text/plain": [
              "<matplotlib.axes._subplots.AxesSubplot at 0x7f4c36f1e2e8>"
            ]
          },
          "metadata": {
            "tags": []
          },
          "execution_count": 164
        },
        {
          "output_type": "display_data",
          "data": {
            "image/png": "[encoded data removed]",
            "text/plain": [
              "<Figure size 1008x432 with 1 Axes>"
            ]
          },
          "metadata": {
            "tags": []
          }
        }
      ]
    },
    {
      "cell_type": "code",
      "metadata": {
        "id": "UKgi_gq_xXaf",
        "colab_type": "code",
        "colab": {
          "base_uri": "https://localhost:8080/",
          "height": 34
        },
        "outputId": "adf536a9-6da6-44b9-9496-39428706ee5f"
      },
      "source": [
        "#calclating MSE for gradient boosing\n",
        "mean_squared_error(y_val, gbm_pred)"
      ],
      "execution_count": 165,
      "outputs": [
        {
          "output_type": "execute_result",
          "data": {
            "text/plain": [
              "364.8570379039025"
            ]
          },
          "metadata": {
            "tags": []
          },
          "execution_count": 165
        }
      ]
    },
    {
      "cell_type": "markdown",
      "metadata": {
        "id": "H_musJsCzaVg",
        "colab_type": "text"
      },
      "source": [
        "Both the Gradient boosting and Random forest gave similar MSE values, so we can choose any one of them for deployment."
      ]
    },
    {
      "cell_type": "code",
      "metadata": {
        "id": "H9npHBGpzSW4",
        "colab_type": "code",
        "colab": {}
      },
      "source": [
        ""
      ],
      "execution_count": 0,
      "outputs": []
    },
    {
      "cell_type": "markdown",
      "metadata": {
        "id": "WNiN2uQIR1Uk",
        "colab_type": "text"
      },
      "source": [
        "### ---- 9 Select best model  ----"
      ]
    },
    {
      "cell_type": "markdown",
      "metadata": {
        "id": "nnHpIHWkyBSj",
        "colab_type": "text"
      },
      "source": [
        "From the above results it is clear that Rndom Forest performs really well with the validation data, and we get the lowest MSE among other models. So we will choose this model and use it for deployment"
      ]
    },
    {
      "cell_type": "markdown",
      "metadata": {
        "id": "pXKBdtMjR1Uw",
        "colab_type": "text"
      },
      "source": [
        "## Part 4 - DEPLOY"
      ]
    },
    {
      "cell_type": "markdown",
      "metadata": {
        "id": "rhkff0zGR1Uy",
        "colab_type": "text"
      },
      "source": [
        "### ---- 10 Automate pipeline ----"
      ]
    },
    {
      "cell_type": "markdown",
      "metadata": {
        "id": "O3VRslKIyhlc",
        "colab_type": "text"
      },
      "source": [
        "writing the following script that trains model on entire training set, saves model to disk,and scores the \"test\" dataset"
      ]
    },
    {
      "cell_type": "code",
      "metadata": {
        "id": "oAgUEW0JR1Uz",
        "colab_type": "code",
        "colab": {}
      },
      "source": [
        "# using the choosen model and its hyperparameters\n",
        "final_rf = RandomForestRegressor(bootstrap=True, criterion='mse', max_depth=25,\n",
        "           max_features=30, max_leaf_nodes=None, min_impurity_decrease=0.0,\n",
        "           min_impurity_split=None, min_samples_leaf=1,\n",
        "           min_samples_split=60, min_weight_fraction_leaf=0.0,\n",
        "           n_estimators=150, n_jobs=2, oob_score=False, random_state=None,\n",
        "           verbose=0, warm_start=False)"
      ],
      "execution_count": 0,
      "outputs": []
    },
    {
      "cell_type": "code",
      "metadata": {
        "id": "4S1m6yD3z1TL",
        "colab_type": "code",
        "colab": {
          "base_uri": "https://localhost:8080/",
          "height": 136
        },
        "outputId": "a7229a36-c651-4425-a647-0517eee67b4e"
      },
      "source": [
        "#using this to fit our whole training set\n",
        "final_rf.fit(train_salaries_df,target)"
      ],
      "execution_count": 168,
      "outputs": [
        {
          "output_type": "execute_result",
          "data": {
            "text/plain": [
              "RandomForestRegressor(bootstrap=True, ccp_alpha=0.0, criterion='mse',\n",
              "                      max_depth=25, max_features=30, max_leaf_nodes=None,\n",
              "                      max_samples=None, min_impurity_decrease=0.0,\n",
              "                      min_impurity_split=None, min_samples_leaf=1,\n",
              "                      min_samples_split=60, min_weight_fraction_leaf=0.0,\n",
              "                      n_estimators=150, n_jobs=2, oob_score=False,\n",
              "                      random_state=None, verbose=0, warm_start=False)"
            ]
          },
          "metadata": {
            "tags": []
          },
          "execution_count": 168
        }
      ]
    },
    {
      "cell_type": "markdown",
      "metadata": {
        "id": "JUUWDdtS0SFG",
        "colab_type": "text"
      },
      "source": [
        "we will have to store this model\n"
      ]
    },
    {
      "cell_type": "code",
      "metadata": {
        "id": "zoWou7dw0WQ7",
        "colab_type": "code",
        "colab": {}
      },
      "source": [
        "model_name = 'final_random_forest_model.pkl'\n",
        "DATA_PATH = \"/content/drive/My Drive/project final/\""
      ],
      "execution_count": 0,
      "outputs": []
    },
    {
      "cell_type": "code",
      "metadata": {
        "id": "GKyWZdEJ0usj",
        "colab_type": "code",
        "colab": {}
      },
      "source": [
        "#saving the model\n",
        "with open(model_name,'wb') as file:\n",
        "  pickle.dump(final_rf,file)"
      ],
      "execution_count": 0,
      "outputs": []
    },
    {
      "cell_type": "code",
      "metadata": {
        "id": "BASQPeln1PqH",
        "colab_type": "code",
        "colab": {}
      },
      "source": [
        "#loading the model\n",
        "with open(DATA_PATH+model_name,'rb') as file:\n",
        "  model_loaded = pickle.load(file)"
      ],
      "execution_count": 0,
      "outputs": []
    },
    {
      "cell_type": "code",
      "metadata": {
        "id": "5CkwhXSI1P56",
        "colab_type": "code",
        "colab": {}
      },
      "source": [
        "#fitting the model on actual test data\n",
        "\n",
        "final_test = test_salaries_df.copy()\n",
        "\n",
        "test_salaries_df.drop('jobId', axis = 1, inplace = True)\n",
        "\n",
        "final_predictions = model_loaded.predict(test_salaries_df)"
      ],
      "execution_count": 0,
      "outputs": []
    },
    {
      "cell_type": "markdown",
      "metadata": {
        "id": "YEsv4G7dR1U4",
        "colab_type": "text"
      },
      "source": [
        "### ---- 12 Deploy solution ----"
      ]
    },
    {
      "cell_type": "code",
      "metadata": {
        "id": "_vfg9-fRR1U5",
        "colab_type": "code",
        "colab": {}
      },
      "source": [
        "#save your prediction to a csv file or optionally save them as a table in a SQL database\n",
        "#additionally, you want to save a visualization and summary of your prediction and feature importances\n",
        "#these visualizations and summaries will be extremely useful to business stakeholders"
      ],
      "execution_count": 0,
      "outputs": []
    },
    {
      "cell_type": "code",
      "metadata": {
        "id": "BTmjy_bP3ydI",
        "colab_type": "code",
        "colab": {}
      },
      "source": [
        ""
      ],
      "execution_count": 0,
      "outputs": []
    },
    {
      "cell_type": "code",
      "metadata": {
        "id": "OzJcx7Ly3ywU",
        "colab_type": "code",
        "colab": {
          "base_uri": "https://localhost:8080/",
          "height": 204
        },
        "outputId": "2559742c-e9ca-4d0f-9b8b-27bd244c276b"
      },
      "source": [
        "solution = pd.concat([final_test['jobId'], pd.DataFrame(final_predictions, columns = ['Predicted Salary'])], axis = 1)\n",
        "\n",
        "solution.head()"
      ],
      "execution_count": 188,
      "outputs": [
        {
          "output_type": "execute_result",
          "data": {
            "text/html": [
              "<div>\n",
              "<style scoped>\n",
              "    .dataframe tbody tr th:only-of-type {\n",
              "        vertical-align: middle;\n",
              "    }\n",
              "\n",
              "    .dataframe tbody tr th {\n",
              "        vertical-align: top;\n",
              "    }\n",
              "\n",
              "    .dataframe thead th {\n",
              "        text-align: right;\n",
              "    }\n",
              "</style>\n",
              "<table border=\"1\" class=\"dataframe\">\n",
              "  <thead>\n",
              "    <tr style=\"text-align: right;\">\n",
              "      <th></th>\n",
              "      <th>jobId</th>\n",
              "      <th>Predicted Salary</th>\n",
              "    </tr>\n",
              "  </thead>\n",
              "  <tbody>\n",
              "    <tr>\n",
              "      <th>0</th>\n",
              "      <td>JOB1362685407687</td>\n",
              "      <td>113.928523</td>\n",
              "    </tr>\n",
              "    <tr>\n",
              "      <th>1</th>\n",
              "      <td>JOB1362685407688</td>\n",
              "      <td>91.900045</td>\n",
              "    </tr>\n",
              "    <tr>\n",
              "      <th>2</th>\n",
              "      <td>JOB1362685407689</td>\n",
              "      <td>179.086569</td>\n",
              "    </tr>\n",
              "    <tr>\n",
              "      <th>3</th>\n",
              "      <td>JOB1362685407690</td>\n",
              "      <td>106.072190</td>\n",
              "    </tr>\n",
              "    <tr>\n",
              "      <th>4</th>\n",
              "      <td>JOB1362685407691</td>\n",
              "      <td>111.142383</td>\n",
              "    </tr>\n",
              "  </tbody>\n",
              "</table>\n",
              "</div>"
            ],
            "text/plain": [
              "              jobId  Predicted Salary\n",
              "0  JOB1362685407687        113.928523\n",
              "1  JOB1362685407688         91.900045\n",
              "2  JOB1362685407689        179.086569\n",
              "3  JOB1362685407690        106.072190\n",
              "4  JOB1362685407691        111.142383"
            ]
          },
          "metadata": {
            "tags": []
          },
          "execution_count": 188
        }
      ]
    },
    {
      "cell_type": "code",
      "metadata": {
        "id": "ww8vFJ5b4f9q",
        "colab_type": "code",
        "colab": {}
      },
      "source": [
        "#saving the predictions to a CSV file\n",
        "solution.to_csv('Predictions.csv')"
      ],
      "execution_count": 0,
      "outputs": []
    }
  ]
}